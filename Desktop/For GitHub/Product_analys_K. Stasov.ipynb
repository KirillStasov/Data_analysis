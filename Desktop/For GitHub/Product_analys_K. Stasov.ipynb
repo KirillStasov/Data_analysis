{
 "cells": [
  {
   "cell_type": "code",
   "execution_count": 1,
   "metadata": {},
   "outputs": [],
   "source": [
    "# loading the necessary libraries\n",
    "import pandas as pd\n",
    "import numpy as np\n",
    "import seaborn as sns\n",
    "import matplotlib\n",
    "import matplotlib.pyplot as plt\n",
    "import io\n",
    "import requests\n",
    "import urllib\n",
    "import json\n",
    "from datetime import datetime\n",
    "from datetime import timedelta\n",
    "from urllib.parse import urlencode\n",
    "from calendar import monthrange\n",
    "from operator import attrgetter"
   ]
  },
  {
   "cell_type": "code",
   "execution_count": 2,
   "metadata": {},
   "outputs": [],
   "source": [
    "# Loading data for analysis\n",
    "customers = pd.read_csv('/mnt/HC_Volume_18315164/home-jupyter/jupyter-k-stasov/For Github/olist_customers_dataset.csv')\n",
    "orders = pd.read_csv('/mnt/HC_Volume_18315164/home-jupyter/jupyter-k-stasov/For Github/olist_orders_dataset.csv')\n",
    "items = pd.read_csv('/mnt/HC_Volume_18315164/home-jupyter/jupyter-k-stasov/For Github/olist_order_items_dataset.csv')"
   ]
  },
  {
   "cell_type": "code",
   "execution_count": 3,
   "metadata": {
    "scrolled": true
   },
   "outputs": [
    {
     "data": {
      "text/html": [
       "<div>\n",
       "<style scoped>\n",
       "    .dataframe tbody tr th:only-of-type {\n",
       "        vertical-align: middle;\n",
       "    }\n",
       "\n",
       "    .dataframe tbody tr th {\n",
       "        vertical-align: top;\n",
       "    }\n",
       "\n",
       "    .dataframe thead th {\n",
       "        text-align: right;\n",
       "    }\n",
       "</style>\n",
       "<table border=\"1\" class=\"dataframe\">\n",
       "  <thead>\n",
       "    <tr style=\"text-align: right;\">\n",
       "      <th></th>\n",
       "      <th>customer_id</th>\n",
       "      <th>customer_unique_id</th>\n",
       "      <th>customer_zip_code_prefix</th>\n",
       "      <th>customer_city</th>\n",
       "      <th>customer_state</th>\n",
       "    </tr>\n",
       "  </thead>\n",
       "  <tbody>\n",
       "    <tr>\n",
       "      <th>0</th>\n",
       "      <td>06b8999e2fba1a1fbc88172c00ba8bc7</td>\n",
       "      <td>861eff4711a542e4b93843c6dd7febb0</td>\n",
       "      <td>14409</td>\n",
       "      <td>franca</td>\n",
       "      <td>SP</td>\n",
       "    </tr>\n",
       "  </tbody>\n",
       "</table>\n",
       "</div>"
      ],
      "text/plain": [
       "                        customer_id                customer_unique_id  \\\n",
       "0  06b8999e2fba1a1fbc88172c00ba8bc7  861eff4711a542e4b93843c6dd7febb0   \n",
       "\n",
       "   customer_zip_code_prefix customer_city customer_state  \n",
       "0                     14409        franca             SP  "
      ]
     },
     "execution_count": 3,
     "metadata": {},
     "output_type": "execute_result"
    }
   ],
   "source": [
    "customers.head(1)"
   ]
  },
  {
   "cell_type": "code",
   "execution_count": 4,
   "metadata": {},
   "outputs": [
    {
     "data": {
      "text/html": [
       "<div>\n",
       "<style scoped>\n",
       "    .dataframe tbody tr th:only-of-type {\n",
       "        vertical-align: middle;\n",
       "    }\n",
       "\n",
       "    .dataframe tbody tr th {\n",
       "        vertical-align: top;\n",
       "    }\n",
       "\n",
       "    .dataframe thead th {\n",
       "        text-align: right;\n",
       "    }\n",
       "</style>\n",
       "<table border=\"1\" class=\"dataframe\">\n",
       "  <thead>\n",
       "    <tr style=\"text-align: right;\">\n",
       "      <th></th>\n",
       "      <th>order_id</th>\n",
       "      <th>customer_id</th>\n",
       "      <th>order_status</th>\n",
       "      <th>order_purchase_timestamp</th>\n",
       "      <th>order_approved_at</th>\n",
       "      <th>order_delivered_carrier_date</th>\n",
       "      <th>order_delivered_customer_date</th>\n",
       "      <th>order_estimated_delivery_date</th>\n",
       "    </tr>\n",
       "  </thead>\n",
       "  <tbody>\n",
       "    <tr>\n",
       "      <th>0</th>\n",
       "      <td>e481f51cbdc54678b7cc49136f2d6af7</td>\n",
       "      <td>9ef432eb6251297304e76186b10a928d</td>\n",
       "      <td>delivered</td>\n",
       "      <td>2017-10-02 10:56:33</td>\n",
       "      <td>2017-10-02 11:07:15</td>\n",
       "      <td>2017-10-04 19:55:00</td>\n",
       "      <td>2017-10-10 21:25:13</td>\n",
       "      <td>2017-10-18 00:00:00</td>\n",
       "    </tr>\n",
       "  </tbody>\n",
       "</table>\n",
       "</div>"
      ],
      "text/plain": [
       "                           order_id                       customer_id  \\\n",
       "0  e481f51cbdc54678b7cc49136f2d6af7  9ef432eb6251297304e76186b10a928d   \n",
       "\n",
       "  order_status order_purchase_timestamp    order_approved_at  \\\n",
       "0    delivered      2017-10-02 10:56:33  2017-10-02 11:07:15   \n",
       "\n",
       "  order_delivered_carrier_date order_delivered_customer_date  \\\n",
       "0          2017-10-04 19:55:00           2017-10-10 21:25:13   \n",
       "\n",
       "  order_estimated_delivery_date  \n",
       "0           2017-10-18 00:00:00  "
      ]
     },
     "execution_count": 4,
     "metadata": {},
     "output_type": "execute_result"
    }
   ],
   "source": [
    "orders.head(1)"
   ]
  },
  {
   "cell_type": "code",
   "execution_count": 5,
   "metadata": {},
   "outputs": [
    {
     "data": {
      "text/html": [
       "<div>\n",
       "<style scoped>\n",
       "    .dataframe tbody tr th:only-of-type {\n",
       "        vertical-align: middle;\n",
       "    }\n",
       "\n",
       "    .dataframe tbody tr th {\n",
       "        vertical-align: top;\n",
       "    }\n",
       "\n",
       "    .dataframe thead th {\n",
       "        text-align: right;\n",
       "    }\n",
       "</style>\n",
       "<table border=\"1\" class=\"dataframe\">\n",
       "  <thead>\n",
       "    <tr style=\"text-align: right;\">\n",
       "      <th></th>\n",
       "      <th>order_id</th>\n",
       "      <th>order_item_id</th>\n",
       "      <th>product_id</th>\n",
       "      <th>seller_id</th>\n",
       "      <th>shipping_limit_date</th>\n",
       "      <th>price</th>\n",
       "      <th>freight_value</th>\n",
       "    </tr>\n",
       "  </thead>\n",
       "  <tbody>\n",
       "    <tr>\n",
       "      <th>0</th>\n",
       "      <td>00010242fe8c5a6d1ba2dd792cb16214</td>\n",
       "      <td>1</td>\n",
       "      <td>4244733e06e7ecb4970a6e2683c13e61</td>\n",
       "      <td>48436dade18ac8b2bce089ec2a041202</td>\n",
       "      <td>2017-09-19 09:45:35</td>\n",
       "      <td>58.9</td>\n",
       "      <td>13.29</td>\n",
       "    </tr>\n",
       "  </tbody>\n",
       "</table>\n",
       "</div>"
      ],
      "text/plain": [
       "                           order_id  order_item_id  \\\n",
       "0  00010242fe8c5a6d1ba2dd792cb16214              1   \n",
       "\n",
       "                         product_id                         seller_id  \\\n",
       "0  4244733e06e7ecb4970a6e2683c13e61  48436dade18ac8b2bce089ec2a041202   \n",
       "\n",
       "   shipping_limit_date  price  freight_value  \n",
       "0  2017-09-19 09:45:35   58.9          13.29  "
      ]
     },
     "execution_count": 5,
     "metadata": {},
     "output_type": "execute_result"
    }
   ],
   "source": [
    "items.head(1)"
   ]
  },
  {
   "cell_type": "code",
   "execution_count": 6,
   "metadata": {},
   "outputs": [
    {
     "data": {
      "text/plain": [
       "order_id                            0\n",
       "customer_id                         0\n",
       "order_status                        0\n",
       "order_purchase_timestamp            0\n",
       "order_approved_at                 160\n",
       "order_delivered_carrier_date     1783\n",
       "order_delivered_customer_date    2965\n",
       "order_estimated_delivery_date       0\n",
       "dtype: int64"
      ]
     },
     "execution_count": 6,
     "metadata": {},
     "output_type": "execute_result"
    }
   ],
   "source": [
    "# we see 160 unconfirmed orders, as well as many missed delivery dates, this is normal, because\n",
    "# there are statuses such as shipped, delivered, which means it’s ok\n",
    "orders.isna().sum()"
   ]
  },
  {
   "cell_type": "markdown",
   "metadata": {},
   "source": [
    "# Step 1. How many users do we have who made a purchase only once?"
   ]
  },
  {
   "cell_type": "markdown",
   "metadata": {},
   "source": [
    "For this task, we need to merge orders and customers using the customer_id column\n",
    "\n",
    "Then we will group the new DF by clients and number of orders, and then using the query == 1 method we will leave only those we need.\n",
    "\n",
    "Also we need to determine what is considered a purchase."
   ]
  },
  {
   "cell_type": "code",
   "execution_count": 7,
   "metadata": {},
   "outputs": [],
   "source": [
    "# merging orders and customers\n",
    "orders_with_customers = orders.merge(customers, on='customer_id', how='left')"
   ]
  },
  {
   "cell_type": "code",
   "execution_count": 8,
   "metadata": {
    "scrolled": true
   },
   "outputs": [
    {
     "data": {
      "text/html": [
       "<div>\n",
       "<style scoped>\n",
       "    .dataframe tbody tr th:only-of-type {\n",
       "        vertical-align: middle;\n",
       "    }\n",
       "\n",
       "    .dataframe tbody tr th {\n",
       "        vertical-align: top;\n",
       "    }\n",
       "\n",
       "    .dataframe thead th {\n",
       "        text-align: right;\n",
       "    }\n",
       "</style>\n",
       "<table border=\"1\" class=\"dataframe\">\n",
       "  <thead>\n",
       "    <tr style=\"text-align: right;\">\n",
       "      <th></th>\n",
       "      <th>order_id</th>\n",
       "      <th>customer_id</th>\n",
       "      <th>order_status</th>\n",
       "      <th>order_purchase_timestamp</th>\n",
       "      <th>order_approved_at</th>\n",
       "      <th>order_delivered_carrier_date</th>\n",
       "      <th>order_delivered_customer_date</th>\n",
       "      <th>order_estimated_delivery_date</th>\n",
       "      <th>customer_unique_id</th>\n",
       "      <th>customer_zip_code_prefix</th>\n",
       "      <th>customer_city</th>\n",
       "      <th>customer_state</th>\n",
       "    </tr>\n",
       "  </thead>\n",
       "  <tbody>\n",
       "    <tr>\n",
       "      <th>0</th>\n",
       "      <td>e481f51cbdc54678b7cc49136f2d6af7</td>\n",
       "      <td>9ef432eb6251297304e76186b10a928d</td>\n",
       "      <td>delivered</td>\n",
       "      <td>2017-10-02 10:56:33</td>\n",
       "      <td>2017-10-02 11:07:15</td>\n",
       "      <td>2017-10-04 19:55:00</td>\n",
       "      <td>2017-10-10 21:25:13</td>\n",
       "      <td>2017-10-18 00:00:00</td>\n",
       "      <td>7c396fd4830fd04220f754e42b4e5bff</td>\n",
       "      <td>3149</td>\n",
       "      <td>sao paulo</td>\n",
       "      <td>SP</td>\n",
       "    </tr>\n",
       "  </tbody>\n",
       "</table>\n",
       "</div>"
      ],
      "text/plain": [
       "                           order_id                       customer_id  \\\n",
       "0  e481f51cbdc54678b7cc49136f2d6af7  9ef432eb6251297304e76186b10a928d   \n",
       "\n",
       "  order_status order_purchase_timestamp    order_approved_at  \\\n",
       "0    delivered      2017-10-02 10:56:33  2017-10-02 11:07:15   \n",
       "\n",
       "  order_delivered_carrier_date order_delivered_customer_date  \\\n",
       "0          2017-10-04 19:55:00           2017-10-10 21:25:13   \n",
       "\n",
       "  order_estimated_delivery_date                customer_unique_id  \\\n",
       "0           2017-10-18 00:00:00  7c396fd4830fd04220f754e42b4e5bff   \n",
       "\n",
       "   customer_zip_code_prefix customer_city customer_state  \n",
       "0                      3149     sao paulo             SP  "
      ]
     },
     "execution_count": 8,
     "metadata": {},
     "output_type": "execute_result"
    }
   ],
   "source": [
    "orders_with_customers.head(1)"
   ]
  },
  {
   "cell_type": "code",
   "execution_count": 9,
   "metadata": {
    "scrolled": true
   },
   "outputs": [
    {
     "data": {
      "text/plain": [
       "order_id                            0\n",
       "customer_id                         0\n",
       "order_status                        0\n",
       "order_purchase_timestamp            0\n",
       "order_approved_at                 160\n",
       "order_delivered_carrier_date     1783\n",
       "order_delivered_customer_date    2965\n",
       "order_estimated_delivery_date       0\n",
       "customer_unique_id                  0\n",
       "customer_zip_code_prefix            0\n",
       "customer_city                       0\n",
       "customer_state                      0\n",
       "dtype: int64"
      ]
     },
     "execution_count": 9,
     "metadata": {},
     "output_type": "execute_result"
    }
   ],
   "source": [
    "# look at the missing lines\n",
    "orders_with_customers.isna().sum()"
   ]
  },
  {
   "cell_type": "code",
   "execution_count": 10,
   "metadata": {},
   "outputs": [
    {
     "data": {
      "text/plain": [
       "array(['delivered', 'invoiced', 'shipped', 'processing', 'unavailable',\n",
       "       'canceled', 'created', 'approved'], dtype=object)"
      ]
     },
     "execution_count": 10,
     "metadata": {},
     "output_type": "execute_result"
    }
   ],
   "source": [
    "# look at statuses\n",
    "orders_with_customers.order_status.unique()"
   ]
  },
  {
   "cell_type": "markdown",
   "metadata": {},
   "source": [
    "Here we see that for each order there is a delivery date, for 160 customers there is no confirmation date.\n",
    "\n",
    "Logically, confirmation of payment should be considered a purchase.\n",
    "\n",
    "Accordingly, we exclude 160 unconfirmed orders.\n",
    "\n",
    "We must also exclude \"canceled\"\n",
    "\n",
    "It is also important to take exactly \"customer_unique_id\", since logically 1 \"customer_unique_id\" can have several \"customer_ids\""
   ]
  },
  {
   "cell_type": "code",
   "execution_count": 11,
   "metadata": {},
   "outputs": [],
   "source": [
    "# leave information containing the date of confirmation of payment\n",
    "both_one_time = orders_with_customers[orders_with_customers['order_approved_at'].notna()]"
   ]
  },
  {
   "cell_type": "code",
   "execution_count": 12,
   "metadata": {},
   "outputs": [
    {
     "data": {
      "text/html": [
       "<div>\n",
       "<style scoped>\n",
       "    .dataframe tbody tr th:only-of-type {\n",
       "        vertical-align: middle;\n",
       "    }\n",
       "\n",
       "    .dataframe tbody tr th {\n",
       "        vertical-align: top;\n",
       "    }\n",
       "\n",
       "    .dataframe thead th {\n",
       "        text-align: right;\n",
       "    }\n",
       "</style>\n",
       "<table border=\"1\" class=\"dataframe\">\n",
       "  <thead>\n",
       "    <tr style=\"text-align: right;\">\n",
       "      <th></th>\n",
       "      <th>customer_unique_id</th>\n",
       "      <th>order_approved_at</th>\n",
       "    </tr>\n",
       "  </thead>\n",
       "  <tbody>\n",
       "    <tr>\n",
       "      <th>0</th>\n",
       "      <td>0000366f3b9a7992bf8c76cfdf3221e2</td>\n",
       "      <td>1</td>\n",
       "    </tr>\n",
       "    <tr>\n",
       "      <th>1</th>\n",
       "      <td>0000b849f77a49e4a4ce2b2a4ca5be3f</td>\n",
       "      <td>1</td>\n",
       "    </tr>\n",
       "    <tr>\n",
       "      <th>2</th>\n",
       "      <td>0000f46a3911fa3c0805444483337064</td>\n",
       "      <td>1</td>\n",
       "    </tr>\n",
       "    <tr>\n",
       "      <th>3</th>\n",
       "      <td>0000f6ccb0745a6a4b88665a16c9f078</td>\n",
       "      <td>1</td>\n",
       "    </tr>\n",
       "    <tr>\n",
       "      <th>4</th>\n",
       "      <td>0004aac84e0df4da2b147fca70cf8255</td>\n",
       "      <td>1</td>\n",
       "    </tr>\n",
       "    <tr>\n",
       "      <th>...</th>\n",
       "      <td>...</td>\n",
       "      <td>...</td>\n",
       "    </tr>\n",
       "    <tr>\n",
       "      <th>95992</th>\n",
       "      <td>fffcf5a5ff07b0908bd4e2dbc735a684</td>\n",
       "      <td>1</td>\n",
       "    </tr>\n",
       "    <tr>\n",
       "      <th>95993</th>\n",
       "      <td>fffea47cd6d3cc0a88bd621562a9d061</td>\n",
       "      <td>1</td>\n",
       "    </tr>\n",
       "    <tr>\n",
       "      <th>95994</th>\n",
       "      <td>ffff371b4d645b6ecea244b27531430a</td>\n",
       "      <td>1</td>\n",
       "    </tr>\n",
       "    <tr>\n",
       "      <th>95995</th>\n",
       "      <td>ffff5962728ec6157033ef9805bacc48</td>\n",
       "      <td>1</td>\n",
       "    </tr>\n",
       "    <tr>\n",
       "      <th>95996</th>\n",
       "      <td>ffffd2657e2aad2907e67c3e9daecbeb</td>\n",
       "      <td>1</td>\n",
       "    </tr>\n",
       "  </tbody>\n",
       "</table>\n",
       "<p>93049 rows × 2 columns</p>\n",
       "</div>"
      ],
      "text/plain": [
       "                     customer_unique_id  order_approved_at\n",
       "0      0000366f3b9a7992bf8c76cfdf3221e2                  1\n",
       "1      0000b849f77a49e4a4ce2b2a4ca5be3f                  1\n",
       "2      0000f46a3911fa3c0805444483337064                  1\n",
       "3      0000f6ccb0745a6a4b88665a16c9f078                  1\n",
       "4      0004aac84e0df4da2b147fca70cf8255                  1\n",
       "...                                 ...                ...\n",
       "95992  fffcf5a5ff07b0908bd4e2dbc735a684                  1\n",
       "95993  fffea47cd6d3cc0a88bd621562a9d061                  1\n",
       "95994  ffff371b4d645b6ecea244b27531430a                  1\n",
       "95995  ffff5962728ec6157033ef9805bacc48                  1\n",
       "95996  ffffd2657e2aad2907e67c3e9daecbeb                  1\n",
       "\n",
       "[93049 rows x 2 columns]"
      ]
     },
     "execution_count": 12,
     "metadata": {},
     "output_type": "execute_result"
    }
   ],
   "source": [
    "# display the final table\n",
    "both_one_time \\\n",
    "    .groupby('customer_unique_id', as_index=False) \\\n",
    "    .agg({'order_approved_at':'count'}) \\\n",
    "    .query('order_approved_at == 1')"
   ]
  },
  {
   "cell_type": "markdown",
   "metadata": {},
   "source": [
    "# Answer: 93049 customers made only 1 purchase"
   ]
  },
  {
   "cell_type": "markdown",
   "metadata": {},
   "source": [
    "# Step 2. How many orders per month on average are not delivered for various reasons (detail the reasons)?"
   ]
  },
  {
   "cell_type": "markdown",
   "metadata": {},
   "source": [
    "Here we are interested in 2 statuses: \"unavailable\" and \"canceled\", since the remaining statuses \"not delivered\" are in progress.\n",
    "\n",
    "To do this, we need to group the data by these two statuses, calculate the quantity and average."
   ]
  },
  {
   "cell_type": "code",
   "execution_count": 13,
   "metadata": {},
   "outputs": [],
   "source": [
    "# convert \"order_approved_at\" to date\n",
    "not_delivered = orders_with_customers.copy()\n",
    "not_delivered['order_approved_at'] = pd.to_datetime(not_delivered['order_approved_at'])"
   ]
  },
  {
   "cell_type": "code",
   "execution_count": 14,
   "metadata": {
    "scrolled": true
   },
   "outputs": [],
   "source": [
    "# count the number of months from the first to the last \"order_approved_at\"\n",
    "summ_of_month = (not_delivered.order_approved_at.max() - not_delivered.order_approved_at.min()) / np.timedelta64(1, 'M')"
   ]
  },
  {
   "cell_type": "code",
   "execution_count": 15,
   "metadata": {},
   "outputs": [],
   "source": [
    "# get the number of orders in two statuses\n",
    "canseled_unavailable = not_delivered \\\n",
    "    .query('order_status in [\"unavailable\", \"canceled\"]') \\\n",
    "    .groupby('order_status', as_index=False) \\\n",
    "    .agg({'order_id':'count'}) \\\n",
    "    .rename(columns={'order_id':'count_of_orders'})"
   ]
  },
  {
   "cell_type": "code",
   "execution_count": 16,
   "metadata": {},
   "outputs": [],
   "source": [
    "# Now in a new column will write the result of dividing count_of_orders by the number of months\n",
    "canseled_unavailable['mean'] = round(canseled_unavailable.count_of_orders / summ_of_month, 1)"
   ]
  },
  {
   "cell_type": "code",
   "execution_count": 17,
   "metadata": {},
   "outputs": [
    {
     "data": {
      "text/html": [
       "<div>\n",
       "<style scoped>\n",
       "    .dataframe tbody tr th:only-of-type {\n",
       "        vertical-align: middle;\n",
       "    }\n",
       "\n",
       "    .dataframe tbody tr th {\n",
       "        vertical-align: top;\n",
       "    }\n",
       "\n",
       "    .dataframe thead th {\n",
       "        text-align: right;\n",
       "    }\n",
       "</style>\n",
       "<table border=\"1\" class=\"dataframe\">\n",
       "  <thead>\n",
       "    <tr style=\"text-align: right;\">\n",
       "      <th></th>\n",
       "      <th>order_status</th>\n",
       "      <th>count_of_orders</th>\n",
       "      <th>mean</th>\n",
       "    </tr>\n",
       "  </thead>\n",
       "  <tbody>\n",
       "    <tr>\n",
       "      <th>0</th>\n",
       "      <td>canceled</td>\n",
       "      <td>625</td>\n",
       "      <td>26.5</td>\n",
       "    </tr>\n",
       "    <tr>\n",
       "      <th>1</th>\n",
       "      <td>unavailable</td>\n",
       "      <td>609</td>\n",
       "      <td>25.8</td>\n",
       "    </tr>\n",
       "  </tbody>\n",
       "</table>\n",
       "</div>"
      ],
      "text/plain": [
       "  order_status  count_of_orders  mean\n",
       "0     canceled              625  26.5\n",
       "1  unavailable              609  25.8"
      ]
     },
     "execution_count": 17,
     "metadata": {},
     "output_type": "execute_result"
    }
   ],
   "source": [
    "canseled_unavailable"
   ]
  },
  {
   "cell_type": "markdown",
   "metadata": {},
   "source": [
    "# Answer: On average, orders with \"unavailable\" and \"canceled\" statuses per month are 25.8 and 26.5, respectively"
   ]
  },
  {
   "cell_type": "markdown",
   "metadata": {},
   "source": [
    "# Step 3. For each product, determine on what day of the week the product is most often purchased."
   ]
  },
  {
   "cell_type": "markdown",
   "metadata": {},
   "source": [
    "This time let's take \"orders\" and \"items\"\n",
    "\n",
    "We will isolate the day of the week from the date"
   ]
  },
  {
   "cell_type": "code",
   "execution_count": 18,
   "metadata": {},
   "outputs": [],
   "source": [
    "# create new df\n",
    "orders_and_items = orders"
   ]
  },
  {
   "cell_type": "code",
   "execution_count": 19,
   "metadata": {},
   "outputs": [],
   "source": [
    "# merging it with \"items\"\n",
    "orders_and_items = orders_and_items.merge(items, on='order_id', how='left')"
   ]
  },
  {
   "cell_type": "code",
   "execution_count": 20,
   "metadata": {},
   "outputs": [],
   "source": [
    "orders_and_items = orders_and_items.copy()"
   ]
  },
  {
   "cell_type": "code",
   "execution_count": 21,
   "metadata": {},
   "outputs": [],
   "source": [
    "# convert \"order_approved_at\" to date\n",
    "orders_and_items['order_purchase_timestamp'] = pd.to_datetime(orders_and_items['order_purchase_timestamp'])"
   ]
  },
  {
   "cell_type": "code",
   "execution_count": 22,
   "metadata": {},
   "outputs": [],
   "source": [
    "# calculate the day of the week for each \"order_approved_at\"\n",
    "orders_and_items['weekday'] = orders_and_items['order_purchase_timestamp'].dt.day_name()"
   ]
  },
  {
   "cell_type": "code",
   "execution_count": 23,
   "metadata": {},
   "outputs": [],
   "source": [
    "# create a table of the number of orders per day of the week\n",
    "most_popular_week = orders_and_items \\\n",
    "    .groupby(['product_id', 'weekday'], as_index=False) \\\n",
    "    .agg({'order_id':'count'}) \\\n",
    "    .rename(columns={'order_id':'counts_of_products'}) \\\n",
    "    .sort_values('counts_of_products', ascending=False)"
   ]
  },
  {
   "cell_type": "code",
   "execution_count": 24,
   "metadata": {},
   "outputs": [
    {
     "name": "stdout",
     "output_type": "stream",
     "text": [
      "                             product_id    weekday  counts_of_products\n",
      "8613   422879e10f46682990de24d770e7f83d  Wednesday                  93\n",
      "19742  99a4788cb24856965c36a24e339b6058  Wednesday                  92\n",
      "22112  aca2eb7d00ea1a7b8ebd4e68314663af  Wednesday                  89\n",
      "10867  53b36df67ebb7c41585e8d54d6772e08  Wednesday                  76\n",
      "7079   368c6c730842d78016ad823897a372db  Wednesday                  67\n",
      "...                                 ...        ...                 ...\n",
      "12761  62b07aff118f62756ee579afeedc3eb0  Wednesday                   1\n",
      "12760  62ae6a8f5789aec14529a277c7516def     Sunday                   1\n",
      "12758  62abef05dddbd149514e4339c84f7d7d     Sunday                   1\n",
      "12757  62a6991adbb1e60f5c03a77fae5568ff    Tuesday                   1\n",
      "32950  fffe9eeff12fcbd74a2f2b007dde0c58  Wednesday                   1\n",
      "\n",
      "[32951 rows x 3 columns]\n"
     ]
    }
   ],
   "source": [
    "# group again, leaving only the week where \"counts_of_products\" is maximum and display the final table\n",
    "most_popular_week_for_products = most_popular_week \\\n",
    "    .groupby(['product_id'], as_index=False).max() \\\n",
    "    .sort_values('counts_of_products', ascending=False)\n",
    "\n",
    "print(most_popular_week_for_products)"
   ]
  },
  {
   "cell_type": "markdown",
   "metadata": {},
   "source": [
    "# Step 4. How many purchases does each user have on average per week (by month)? Do not forget that there may not be a whole number of weeks within a month. For example, November 2021 has 4.28 weeks. And this needs to be taken into account within the metric."
   ]
  },
  {
   "cell_type": "code",
   "execution_count": 25,
   "metadata": {},
   "outputs": [],
   "source": [
    "# take our df from task 2\n",
    "step_4 = orders_with_customers.copy()"
   ]
  },
  {
   "cell_type": "code",
   "execution_count": 26,
   "metadata": {},
   "outputs": [],
   "source": [
    "# convert the data type to \"datetime\"\n",
    "step_4['order_purchase_timestamp'] = pd.to_datetime(step_4['order_purchase_timestamp'])"
   ]
  },
  {
   "cell_type": "code",
   "execution_count": 27,
   "metadata": {},
   "outputs": [],
   "source": [
    "# leave only the columns we need\n",
    "step_4 = step_4[['customer_unique_id', 'order_id', 'order_purchase_timestamp']]"
   ]
  },
  {
   "cell_type": "code",
   "execution_count": 28,
   "metadata": {},
   "outputs": [],
   "source": [
    "# convert \"order_purchase_timestamp\" to month and year\n",
    "step_4['month_of_year'] = step_4['order_purchase_timestamp'].dt.to_period('M')"
   ]
  },
  {
   "cell_type": "code",
   "execution_count": 29,
   "metadata": {},
   "outputs": [],
   "source": [
    "# group data to determine the number of purchases for each unique customer\n",
    "orders_by_month = step_4.groupby(['customer_unique_id', 'month_of_year'], as_index=False) \\\n",
    "                    .agg({'order_id': 'count'}) \\\n",
    "                    .rename(columns = {'order_id': 'orders_by_month'})"
   ]
  },
  {
   "cell_type": "code",
   "execution_count": 30,
   "metadata": {},
   "outputs": [],
   "source": [
    "# count the number of weeks in each month\n",
    "orders_by_month['count_of_weeks_in_month'] = round((orders_by_month['month_of_year'].dt.daysinmonth)/7, 2)"
   ]
  },
  {
   "cell_type": "code",
   "execution_count": 31,
   "metadata": {},
   "outputs": [],
   "source": [
    "# divide the number of orders by the number of weeks in the month, round to 2 digits\n",
    "orders_by_month['orders_by_week'] = round(orders_by_month.orders_by_month / orders_by_month.count_of_weeks_in_month, 2)"
   ]
  },
  {
   "cell_type": "code",
   "execution_count": 32,
   "metadata": {},
   "outputs": [
    {
     "data": {
      "text/html": [
       "<div>\n",
       "<style scoped>\n",
       "    .dataframe tbody tr th:only-of-type {\n",
       "        vertical-align: middle;\n",
       "    }\n",
       "\n",
       "    .dataframe tbody tr th {\n",
       "        vertical-align: top;\n",
       "    }\n",
       "\n",
       "    .dataframe thead th {\n",
       "        text-align: right;\n",
       "    }\n",
       "</style>\n",
       "<table border=\"1\" class=\"dataframe\">\n",
       "  <thead>\n",
       "    <tr style=\"text-align: right;\">\n",
       "      <th></th>\n",
       "      <th>customer_unique_id</th>\n",
       "      <th>month_of_year</th>\n",
       "      <th>orders_by_month</th>\n",
       "      <th>count_of_weeks_in_month</th>\n",
       "      <th>orders_by_week</th>\n",
       "    </tr>\n",
       "  </thead>\n",
       "  <tbody>\n",
       "    <tr>\n",
       "      <th>7325</th>\n",
       "      <td>12f5d6e1cbf93dafd9dcc19095df0b3d</td>\n",
       "      <td>2017-01</td>\n",
       "      <td>6</td>\n",
       "      <td>4.43</td>\n",
       "      <td>1.35</td>\n",
       "    </tr>\n",
       "    <tr>\n",
       "      <th>23943</th>\n",
       "      <td>3e43e6105506432c953e165fb2acf44c</td>\n",
       "      <td>2018-02</td>\n",
       "      <td>4</td>\n",
       "      <td>4.00</td>\n",
       "      <td>1.00</td>\n",
       "    </tr>\n",
       "    <tr>\n",
       "      <th>69396</th>\n",
       "      <td>b4e4f24de1e8725b74e4a1f4975116ed</td>\n",
       "      <td>2018-02</td>\n",
       "      <td>4</td>\n",
       "      <td>4.00</td>\n",
       "      <td>1.00</td>\n",
       "    </tr>\n",
       "    <tr>\n",
       "      <th>62196</th>\n",
       "      <td>a239b8e2fbce33780f1f1912e2ee5275</td>\n",
       "      <td>2017-02</td>\n",
       "      <td>4</td>\n",
       "      <td>4.00</td>\n",
       "      <td>1.00</td>\n",
       "    </tr>\n",
       "    <tr>\n",
       "      <th>67755</th>\n",
       "      <td>b08fab27d47a1eb6deda07bfd965ad43</td>\n",
       "      <td>2017-09</td>\n",
       "      <td>4</td>\n",
       "      <td>4.29</td>\n",
       "      <td>0.93</td>\n",
       "    </tr>\n",
       "    <tr>\n",
       "      <th>...</th>\n",
       "      <td>...</td>\n",
       "      <td>...</td>\n",
       "      <td>...</td>\n",
       "      <td>...</td>\n",
       "      <td>...</td>\n",
       "    </tr>\n",
       "    <tr>\n",
       "      <th>34289</th>\n",
       "      <td>592de7c5eef333c04b18e949537061a8</td>\n",
       "      <td>2017-11</td>\n",
       "      <td>1</td>\n",
       "      <td>4.29</td>\n",
       "      <td>0.23</td>\n",
       "    </tr>\n",
       "    <tr>\n",
       "      <th>34287</th>\n",
       "      <td>592d090bb075fa8fb9d6aa816a3ed86d</td>\n",
       "      <td>2017-11</td>\n",
       "      <td>1</td>\n",
       "      <td>4.29</td>\n",
       "      <td>0.23</td>\n",
       "    </tr>\n",
       "    <tr>\n",
       "      <th>34286</th>\n",
       "      <td>592c7258a277ceae66e32188e8ef0d79</td>\n",
       "      <td>2017-12</td>\n",
       "      <td>1</td>\n",
       "      <td>4.43</td>\n",
       "      <td>0.23</td>\n",
       "    </tr>\n",
       "    <tr>\n",
       "      <th>34285</th>\n",
       "      <td>592c4dd3ead25442e70463fb76c466e8</td>\n",
       "      <td>2018-01</td>\n",
       "      <td>1</td>\n",
       "      <td>4.43</td>\n",
       "      <td>0.23</td>\n",
       "    </tr>\n",
       "    <tr>\n",
       "      <th>98045</th>\n",
       "      <td>ffffd2657e2aad2907e67c3e9daecbeb</td>\n",
       "      <td>2017-05</td>\n",
       "      <td>1</td>\n",
       "      <td>4.43</td>\n",
       "      <td>0.23</td>\n",
       "    </tr>\n",
       "  </tbody>\n",
       "</table>\n",
       "<p>98046 rows × 5 columns</p>\n",
       "</div>"
      ],
      "text/plain": [
       "                     customer_unique_id month_of_year  orders_by_month  \\\n",
       "7325   12f5d6e1cbf93dafd9dcc19095df0b3d       2017-01                6   \n",
       "23943  3e43e6105506432c953e165fb2acf44c       2018-02                4   \n",
       "69396  b4e4f24de1e8725b74e4a1f4975116ed       2018-02                4   \n",
       "62196  a239b8e2fbce33780f1f1912e2ee5275       2017-02                4   \n",
       "67755  b08fab27d47a1eb6deda07bfd965ad43       2017-09                4   \n",
       "...                                 ...           ...              ...   \n",
       "34289  592de7c5eef333c04b18e949537061a8       2017-11                1   \n",
       "34287  592d090bb075fa8fb9d6aa816a3ed86d       2017-11                1   \n",
       "34286  592c7258a277ceae66e32188e8ef0d79       2017-12                1   \n",
       "34285  592c4dd3ead25442e70463fb76c466e8       2018-01                1   \n",
       "98045  ffffd2657e2aad2907e67c3e9daecbeb       2017-05                1   \n",
       "\n",
       "       count_of_weeks_in_month  orders_by_week  \n",
       "7325                      4.43            1.35  \n",
       "23943                     4.00            1.00  \n",
       "69396                     4.00            1.00  \n",
       "62196                     4.00            1.00  \n",
       "67755                     4.29            0.93  \n",
       "...                        ...             ...  \n",
       "34289                     4.29            0.23  \n",
       "34287                     4.29            0.23  \n",
       "34286                     4.43            0.23  \n",
       "34285                     4.43            0.23  \n",
       "98045                     4.43            0.23  \n",
       "\n",
       "[98046 rows x 5 columns]"
      ]
     },
     "execution_count": 32,
     "metadata": {},
     "output_type": "execute_result"
    }
   ],
   "source": [
    "# get the resulting table sorted from largest to smallest\n",
    "orders_by_month.sort_values('orders_by_week', ascending=False)                           "
   ]
  },
  {
   "cell_type": "markdown",
   "metadata": {},
   "source": [
    "# Step 5. Conduct a cohort analysis of users. In the period from January to December, identify the cohort with the highest retention in the 3rd month."
   ]
  },
  {
   "cell_type": "markdown",
   "metadata": {},
   "source": [
    "Let us determine the sign of cohort formation - the first purchases made in one time interval (month)\n",
    "\n",
    "We will use only the data in which the payment was made, and exclude \"canseled\" and \"unavailable\"."
   ]
  },
  {
   "cell_type": "code",
   "execution_count": 33,
   "metadata": {},
   "outputs": [],
   "source": [
    "step_5 = orders_with_customers.copy()"
   ]
  },
  {
   "cell_type": "code",
   "execution_count": 34,
   "metadata": {},
   "outputs": [],
   "source": [
    "# remove statuses that we don’t need\n",
    "step_5 = step_5.query('order_status not in [\"unavailable\", \"canceled\"]').copy()"
   ]
  },
  {
   "cell_type": "code",
   "execution_count": 35,
   "metadata": {},
   "outputs": [],
   "source": [
    "# convert to \"datetime\" data type without time\n",
    "step_5['order_purchase_timestamp'] = pd.to_datetime(step_5['order_purchase_timestamp']).values.astype('datetime64[D]')"
   ]
  },
  {
   "cell_type": "code",
   "execution_count": 36,
   "metadata": {},
   "outputs": [],
   "source": [
    "# extract month and year\n",
    "step_5['order_month'] = step_5['order_purchase_timestamp'].dt.to_period('M')"
   ]
  },
  {
   "cell_type": "code",
   "execution_count": 37,
   "metadata": {},
   "outputs": [],
   "source": [
    "# leave only the columns we need\n",
    "step_5_task = step_5[['customer_unique_id', 'order_month']]"
   ]
  },
  {
   "cell_type": "code",
   "execution_count": 38,
   "metadata": {},
   "outputs": [],
   "source": [
    "# create a new column with the first purchase\n",
    "step_5_task = step_5_task.assign(cohort = step_5_task.groupby('customer_unique_id')['order_month'].transform('min'))"
   ]
  },
  {
   "cell_type": "code",
   "execution_count": 39,
   "metadata": {},
   "outputs": [
    {
     "data": {
      "text/plain": [
       "2016-09       2\n",
       "2016-10     293\n",
       "2016-12       1\n",
       "2017-01     787\n",
       "2017-02    1718\n",
       "2017-03    2617\n",
       "2017-04    2377\n",
       "2017-05    3640\n",
       "2017-06    3205\n",
       "2017-07    3946\n",
       "2017-08    4272\n",
       "2017-09    4227\n",
       "2017-10    4547\n",
       "2017-11    7423\n",
       "2017-12    5620\n",
       "2018-01    7187\n",
       "2018-02    6625\n",
       "2018-03    7168\n",
       "2018-04    6919\n",
       "2018-05    6833\n",
       "2018-06    6145\n",
       "2018-07    6233\n",
       "2018-08    6421\n",
       "2018-09       1\n",
       "Freq: M, Name: order_month, dtype: int64"
      ]
     },
     "execution_count": 39,
     "metadata": {},
     "output_type": "execute_result"
    }
   ],
   "source": [
    "# we see that only 2017 is from January to December\n",
    "step_5_task.order_month.value_counts().sort_index()"
   ]
  },
  {
   "cell_type": "code",
   "execution_count": 40,
   "metadata": {},
   "outputs": [],
   "source": [
    "# find out the number of clients in each cohort\n",
    "step_5_task_cohorts = step_5_task \\\n",
    "    .groupby(['cohort', 'order_month'], as_index=False) \\\n",
    "    .agg({'customer_unique_id':'nunique'}) \\\n",
    "    .rename(columns={'customer_unique_id':'count_of_customers'})"
   ]
  },
  {
   "cell_type": "code",
   "execution_count": 41,
   "metadata": {},
   "outputs": [],
   "source": [
    "# Using \"attrgetter\" we calculate when a repeat purchase was made\n",
    "step_5_task_cohorts['period'] = (step_5_task_cohorts.order_month - step_5_task_cohorts.cohort).apply(attrgetter('n')) "
   ]
  },
  {
   "cell_type": "code",
   "execution_count": 42,
   "metadata": {},
   "outputs": [],
   "source": [
    "# combine everything into pivot\n",
    "step_5_task_cohorts_pivot = step_5_task_cohorts.pivot(index='cohort', columns='period', values='count_of_customers')"
   ]
  },
  {
   "cell_type": "code",
   "execution_count": 43,
   "metadata": {},
   "outputs": [
    {
     "data": {
      "text/html": [
       "<div>\n",
       "<style scoped>\n",
       "    .dataframe tbody tr th:only-of-type {\n",
       "        vertical-align: middle;\n",
       "    }\n",
       "\n",
       "    .dataframe tbody tr th {\n",
       "        vertical-align: top;\n",
       "    }\n",
       "\n",
       "    .dataframe thead th {\n",
       "        text-align: right;\n",
       "    }\n",
       "</style>\n",
       "<table border=\"1\" class=\"dataframe\">\n",
       "  <thead>\n",
       "    <tr style=\"text-align: right;\">\n",
       "      <th></th>\n",
       "      <th>cohort</th>\n",
       "      <th>order_month</th>\n",
       "      <th>count_of_customers</th>\n",
       "      <th>period</th>\n",
       "    </tr>\n",
       "  </thead>\n",
       "  <tbody>\n",
       "    <tr>\n",
       "      <th>0</th>\n",
       "      <td>2016-09</td>\n",
       "      <td>2016-09</td>\n",
       "      <td>2</td>\n",
       "      <td>0</td>\n",
       "    </tr>\n",
       "    <tr>\n",
       "      <th>1</th>\n",
       "      <td>2016-10</td>\n",
       "      <td>2016-10</td>\n",
       "      <td>290</td>\n",
       "      <td>0</td>\n",
       "    </tr>\n",
       "    <tr>\n",
       "      <th>2</th>\n",
       "      <td>2016-10</td>\n",
       "      <td>2017-04</td>\n",
       "      <td>1</td>\n",
       "      <td>6</td>\n",
       "    </tr>\n",
       "    <tr>\n",
       "      <th>3</th>\n",
       "      <td>2016-10</td>\n",
       "      <td>2017-07</td>\n",
       "      <td>1</td>\n",
       "      <td>9</td>\n",
       "    </tr>\n",
       "    <tr>\n",
       "      <th>4</th>\n",
       "      <td>2016-10</td>\n",
       "      <td>2017-09</td>\n",
       "      <td>1</td>\n",
       "      <td>11</td>\n",
       "    </tr>\n",
       "    <tr>\n",
       "      <th>...</th>\n",
       "      <td>...</td>\n",
       "      <td>...</td>\n",
       "      <td>...</td>\n",
       "      <td>...</td>\n",
       "    </tr>\n",
       "    <tr>\n",
       "      <th>215</th>\n",
       "      <td>2018-06</td>\n",
       "      <td>2018-08</td>\n",
       "      <td>16</td>\n",
       "      <td>2</td>\n",
       "    </tr>\n",
       "    <tr>\n",
       "      <th>216</th>\n",
       "      <td>2018-07</td>\n",
       "      <td>2018-07</td>\n",
       "      <td>6016</td>\n",
       "      <td>0</td>\n",
       "    </tr>\n",
       "    <tr>\n",
       "      <th>217</th>\n",
       "      <td>2018-07</td>\n",
       "      <td>2018-08</td>\n",
       "      <td>31</td>\n",
       "      <td>1</td>\n",
       "    </tr>\n",
       "    <tr>\n",
       "      <th>218</th>\n",
       "      <td>2018-08</td>\n",
       "      <td>2018-08</td>\n",
       "      <td>6209</td>\n",
       "      <td>0</td>\n",
       "    </tr>\n",
       "    <tr>\n",
       "      <th>219</th>\n",
       "      <td>2018-08</td>\n",
       "      <td>2018-09</td>\n",
       "      <td>1</td>\n",
       "      <td>1</td>\n",
       "    </tr>\n",
       "  </tbody>\n",
       "</table>\n",
       "<p>220 rows × 4 columns</p>\n",
       "</div>"
      ],
      "text/plain": [
       "      cohort order_month  count_of_customers  period\n",
       "0    2016-09     2016-09                   2       0\n",
       "1    2016-10     2016-10                 290       0\n",
       "2    2016-10     2017-04                   1       6\n",
       "3    2016-10     2017-07                   1       9\n",
       "4    2016-10     2017-09                   1      11\n",
       "..       ...         ...                 ...     ...\n",
       "215  2018-06     2018-08                  16       2\n",
       "216  2018-07     2018-07                6016       0\n",
       "217  2018-07     2018-08                  31       1\n",
       "218  2018-08     2018-08                6209       0\n",
       "219  2018-08     2018-09                   1       1\n",
       "\n",
       "[220 rows x 4 columns]"
      ]
     },
     "execution_count": 43,
     "metadata": {},
     "output_type": "execute_result"
    }
   ],
   "source": [
    "step_5_task_cohorts"
   ]
  },
  {
   "cell_type": "code",
   "execution_count": 44,
   "metadata": {},
   "outputs": [],
   "source": [
    "# To find out retention we need to divide each value by the cohort size and multiply by 100 to get %\n",
    "step_5_task_cohorts_pivot = step_5_task_cohorts_pivot.div(step_5_task_cohorts_pivot[0], axis='index')*100"
   ]
  },
  {
   "cell_type": "code",
   "execution_count": 45,
   "metadata": {},
   "outputs": [
    {
     "data": {
      "text/html": [
       "<style  type=\"text/css\" >\n",
       "#T_af4e1d8a_9444_11ee_bdbb_96000040dfb6row0_col0,#T_af4e1d8a_9444_11ee_bdbb_96000040dfb6row1_col0,#T_af4e1d8a_9444_11ee_bdbb_96000040dfb6row1_col9,#T_af4e1d8a_9444_11ee_bdbb_96000040dfb6row1_col11,#T_af4e1d8a_9444_11ee_bdbb_96000040dfb6row1_col15,#T_af4e1d8a_9444_11ee_bdbb_96000040dfb6row1_col18,#T_af4e1d8a_9444_11ee_bdbb_96000040dfb6row1_col19,#T_af4e1d8a_9444_11ee_bdbb_96000040dfb6row2_col0,#T_af4e1d8a_9444_11ee_bdbb_96000040dfb6row2_col1,#T_af4e1d8a_9444_11ee_bdbb_96000040dfb6row3_col0,#T_af4e1d8a_9444_11ee_bdbb_96000040dfb6row3_col10,#T_af4e1d8a_9444_11ee_bdbb_96000040dfb6row3_col12,#T_af4e1d8a_9444_11ee_bdbb_96000040dfb6row3_col13,#T_af4e1d8a_9444_11ee_bdbb_96000040dfb6row3_col16,#T_af4e1d8a_9444_11ee_bdbb_96000040dfb6row3_col17,#T_af4e1d8a_9444_11ee_bdbb_96000040dfb6row4_col0,#T_af4e1d8a_9444_11ee_bdbb_96000040dfb6row5_col0,#T_af4e1d8a_9444_11ee_bdbb_96000040dfb6row5_col8,#T_af4e1d8a_9444_11ee_bdbb_96000040dfb6row6_col0,#T_af4e1d8a_9444_11ee_bdbb_96000040dfb6row7_col0,#T_af4e1d8a_9444_11ee_bdbb_96000040dfb6row7_col3,#T_af4e1d8a_9444_11ee_bdbb_96000040dfb6row7_col6,#T_af4e1d8a_9444_11ee_bdbb_96000040dfb6row7_col14,#T_af4e1d8a_9444_11ee_bdbb_96000040dfb6row8_col0,#T_af4e1d8a_9444_11ee_bdbb_96000040dfb6row9_col0,#T_af4e1d8a_9444_11ee_bdbb_96000040dfb6row10_col0,#T_af4e1d8a_9444_11ee_bdbb_96000040dfb6row10_col5,#T_af4e1d8a_9444_11ee_bdbb_96000040dfb6row11_col0,#T_af4e1d8a_9444_11ee_bdbb_96000040dfb6row11_col2,#T_af4e1d8a_9444_11ee_bdbb_96000040dfb6row11_col4,#T_af4e1d8a_9444_11ee_bdbb_96000040dfb6row12_col0,#T_af4e1d8a_9444_11ee_bdbb_96000040dfb6row12_col7,#T_af4e1d8a_9444_11ee_bdbb_96000040dfb6row13_col0,#T_af4e1d8a_9444_11ee_bdbb_96000040dfb6row14_col0,#T_af4e1d8a_9444_11ee_bdbb_96000040dfb6row15_col0,#T_af4e1d8a_9444_11ee_bdbb_96000040dfb6row16_col0,#T_af4e1d8a_9444_11ee_bdbb_96000040dfb6row17_col0,#T_af4e1d8a_9444_11ee_bdbb_96000040dfb6row18_col0,#T_af4e1d8a_9444_11ee_bdbb_96000040dfb6row19_col0,#T_af4e1d8a_9444_11ee_bdbb_96000040dfb6row20_col0,#T_af4e1d8a_9444_11ee_bdbb_96000040dfb6row21_col0,#T_af4e1d8a_9444_11ee_bdbb_96000040dfb6row22_col0{\n",
       "            background-color:  orange;\n",
       "        }</style><table id=\"T_af4e1d8a_9444_11ee_bdbb_96000040dfb6\" ><caption>Analysis_of_cohorts</caption><thead>    <tr>        <th class=\"index_name level0\" >period</th>        <th class=\"col_heading level0 col0\" >0</th>        <th class=\"col_heading level0 col1\" >1</th>        <th class=\"col_heading level0 col2\" >2</th>        <th class=\"col_heading level0 col3\" >3</th>        <th class=\"col_heading level0 col4\" >4</th>        <th class=\"col_heading level0 col5\" >5</th>        <th class=\"col_heading level0 col6\" >6</th>        <th class=\"col_heading level0 col7\" >7</th>        <th class=\"col_heading level0 col8\" >8</th>        <th class=\"col_heading level0 col9\" >9</th>        <th class=\"col_heading level0 col10\" >10</th>        <th class=\"col_heading level0 col11\" >11</th>        <th class=\"col_heading level0 col12\" >12</th>        <th class=\"col_heading level0 col13\" >13</th>        <th class=\"col_heading level0 col14\" >14</th>        <th class=\"col_heading level0 col15\" >15</th>        <th class=\"col_heading level0 col16\" >16</th>        <th class=\"col_heading level0 col17\" >17</th>        <th class=\"col_heading level0 col18\" >19</th>        <th class=\"col_heading level0 col19\" >20</th>    </tr>    <tr>        <th class=\"index_name level0\" >cohort</th>        <th class=\"blank\" ></th>        <th class=\"blank\" ></th>        <th class=\"blank\" ></th>        <th class=\"blank\" ></th>        <th class=\"blank\" ></th>        <th class=\"blank\" ></th>        <th class=\"blank\" ></th>        <th class=\"blank\" ></th>        <th class=\"blank\" ></th>        <th class=\"blank\" ></th>        <th class=\"blank\" ></th>        <th class=\"blank\" ></th>        <th class=\"blank\" ></th>        <th class=\"blank\" ></th>        <th class=\"blank\" ></th>        <th class=\"blank\" ></th>        <th class=\"blank\" ></th>        <th class=\"blank\" ></th>        <th class=\"blank\" ></th>        <th class=\"blank\" ></th>    </tr></thead><tbody>\n",
       "                <tr>\n",
       "                        <th id=\"T_af4e1d8a_9444_11ee_bdbb_96000040dfb6level0_row0\" class=\"row_heading level0 row0\" >2016-09</th>\n",
       "                        <td id=\"T_af4e1d8a_9444_11ee_bdbb_96000040dfb6row0_col0\" class=\"data row0 col0\" >100.00</td>\n",
       "                        <td id=\"T_af4e1d8a_9444_11ee_bdbb_96000040dfb6row0_col1\" class=\"data row0 col1\" ></td>\n",
       "                        <td id=\"T_af4e1d8a_9444_11ee_bdbb_96000040dfb6row0_col2\" class=\"data row0 col2\" ></td>\n",
       "                        <td id=\"T_af4e1d8a_9444_11ee_bdbb_96000040dfb6row0_col3\" class=\"data row0 col3\" ></td>\n",
       "                        <td id=\"T_af4e1d8a_9444_11ee_bdbb_96000040dfb6row0_col4\" class=\"data row0 col4\" ></td>\n",
       "                        <td id=\"T_af4e1d8a_9444_11ee_bdbb_96000040dfb6row0_col5\" class=\"data row0 col5\" ></td>\n",
       "                        <td id=\"T_af4e1d8a_9444_11ee_bdbb_96000040dfb6row0_col6\" class=\"data row0 col6\" ></td>\n",
       "                        <td id=\"T_af4e1d8a_9444_11ee_bdbb_96000040dfb6row0_col7\" class=\"data row0 col7\" ></td>\n",
       "                        <td id=\"T_af4e1d8a_9444_11ee_bdbb_96000040dfb6row0_col8\" class=\"data row0 col8\" ></td>\n",
       "                        <td id=\"T_af4e1d8a_9444_11ee_bdbb_96000040dfb6row0_col9\" class=\"data row0 col9\" ></td>\n",
       "                        <td id=\"T_af4e1d8a_9444_11ee_bdbb_96000040dfb6row0_col10\" class=\"data row0 col10\" ></td>\n",
       "                        <td id=\"T_af4e1d8a_9444_11ee_bdbb_96000040dfb6row0_col11\" class=\"data row0 col11\" ></td>\n",
       "                        <td id=\"T_af4e1d8a_9444_11ee_bdbb_96000040dfb6row0_col12\" class=\"data row0 col12\" ></td>\n",
       "                        <td id=\"T_af4e1d8a_9444_11ee_bdbb_96000040dfb6row0_col13\" class=\"data row0 col13\" ></td>\n",
       "                        <td id=\"T_af4e1d8a_9444_11ee_bdbb_96000040dfb6row0_col14\" class=\"data row0 col14\" ></td>\n",
       "                        <td id=\"T_af4e1d8a_9444_11ee_bdbb_96000040dfb6row0_col15\" class=\"data row0 col15\" ></td>\n",
       "                        <td id=\"T_af4e1d8a_9444_11ee_bdbb_96000040dfb6row0_col16\" class=\"data row0 col16\" ></td>\n",
       "                        <td id=\"T_af4e1d8a_9444_11ee_bdbb_96000040dfb6row0_col17\" class=\"data row0 col17\" ></td>\n",
       "                        <td id=\"T_af4e1d8a_9444_11ee_bdbb_96000040dfb6row0_col18\" class=\"data row0 col18\" ></td>\n",
       "                        <td id=\"T_af4e1d8a_9444_11ee_bdbb_96000040dfb6row0_col19\" class=\"data row0 col19\" ></td>\n",
       "            </tr>\n",
       "            <tr>\n",
       "                        <th id=\"T_af4e1d8a_9444_11ee_bdbb_96000040dfb6level0_row1\" class=\"row_heading level0 row1\" >2016-10</th>\n",
       "                        <td id=\"T_af4e1d8a_9444_11ee_bdbb_96000040dfb6row1_col0\" class=\"data row1 col0\" >100.00</td>\n",
       "                        <td id=\"T_af4e1d8a_9444_11ee_bdbb_96000040dfb6row1_col1\" class=\"data row1 col1\" ></td>\n",
       "                        <td id=\"T_af4e1d8a_9444_11ee_bdbb_96000040dfb6row1_col2\" class=\"data row1 col2\" ></td>\n",
       "                        <td id=\"T_af4e1d8a_9444_11ee_bdbb_96000040dfb6row1_col3\" class=\"data row1 col3\" ></td>\n",
       "                        <td id=\"T_af4e1d8a_9444_11ee_bdbb_96000040dfb6row1_col4\" class=\"data row1 col4\" ></td>\n",
       "                        <td id=\"T_af4e1d8a_9444_11ee_bdbb_96000040dfb6row1_col5\" class=\"data row1 col5\" ></td>\n",
       "                        <td id=\"T_af4e1d8a_9444_11ee_bdbb_96000040dfb6row1_col6\" class=\"data row1 col6\" >0.34</td>\n",
       "                        <td id=\"T_af4e1d8a_9444_11ee_bdbb_96000040dfb6row1_col7\" class=\"data row1 col7\" ></td>\n",
       "                        <td id=\"T_af4e1d8a_9444_11ee_bdbb_96000040dfb6row1_col8\" class=\"data row1 col8\" ></td>\n",
       "                        <td id=\"T_af4e1d8a_9444_11ee_bdbb_96000040dfb6row1_col9\" class=\"data row1 col9\" >0.34</td>\n",
       "                        <td id=\"T_af4e1d8a_9444_11ee_bdbb_96000040dfb6row1_col10\" class=\"data row1 col10\" ></td>\n",
       "                        <td id=\"T_af4e1d8a_9444_11ee_bdbb_96000040dfb6row1_col11\" class=\"data row1 col11\" >0.34</td>\n",
       "                        <td id=\"T_af4e1d8a_9444_11ee_bdbb_96000040dfb6row1_col12\" class=\"data row1 col12\" ></td>\n",
       "                        <td id=\"T_af4e1d8a_9444_11ee_bdbb_96000040dfb6row1_col13\" class=\"data row1 col13\" >0.34</td>\n",
       "                        <td id=\"T_af4e1d8a_9444_11ee_bdbb_96000040dfb6row1_col14\" class=\"data row1 col14\" ></td>\n",
       "                        <td id=\"T_af4e1d8a_9444_11ee_bdbb_96000040dfb6row1_col15\" class=\"data row1 col15\" >0.34</td>\n",
       "                        <td id=\"T_af4e1d8a_9444_11ee_bdbb_96000040dfb6row1_col16\" class=\"data row1 col16\" ></td>\n",
       "                        <td id=\"T_af4e1d8a_9444_11ee_bdbb_96000040dfb6row1_col17\" class=\"data row1 col17\" >0.34</td>\n",
       "                        <td id=\"T_af4e1d8a_9444_11ee_bdbb_96000040dfb6row1_col18\" class=\"data row1 col18\" >0.69</td>\n",
       "                        <td id=\"T_af4e1d8a_9444_11ee_bdbb_96000040dfb6row1_col19\" class=\"data row1 col19\" >0.69</td>\n",
       "            </tr>\n",
       "            <tr>\n",
       "                        <th id=\"T_af4e1d8a_9444_11ee_bdbb_96000040dfb6level0_row2\" class=\"row_heading level0 row2\" >2016-12</th>\n",
       "                        <td id=\"T_af4e1d8a_9444_11ee_bdbb_96000040dfb6row2_col0\" class=\"data row2 col0\" >100.00</td>\n",
       "                        <td id=\"T_af4e1d8a_9444_11ee_bdbb_96000040dfb6row2_col1\" class=\"data row2 col1\" >100.00</td>\n",
       "                        <td id=\"T_af4e1d8a_9444_11ee_bdbb_96000040dfb6row2_col2\" class=\"data row2 col2\" ></td>\n",
       "                        <td id=\"T_af4e1d8a_9444_11ee_bdbb_96000040dfb6row2_col3\" class=\"data row2 col3\" ></td>\n",
       "                        <td id=\"T_af4e1d8a_9444_11ee_bdbb_96000040dfb6row2_col4\" class=\"data row2 col4\" ></td>\n",
       "                        <td id=\"T_af4e1d8a_9444_11ee_bdbb_96000040dfb6row2_col5\" class=\"data row2 col5\" ></td>\n",
       "                        <td id=\"T_af4e1d8a_9444_11ee_bdbb_96000040dfb6row2_col6\" class=\"data row2 col6\" ></td>\n",
       "                        <td id=\"T_af4e1d8a_9444_11ee_bdbb_96000040dfb6row2_col7\" class=\"data row2 col7\" ></td>\n",
       "                        <td id=\"T_af4e1d8a_9444_11ee_bdbb_96000040dfb6row2_col8\" class=\"data row2 col8\" ></td>\n",
       "                        <td id=\"T_af4e1d8a_9444_11ee_bdbb_96000040dfb6row2_col9\" class=\"data row2 col9\" ></td>\n",
       "                        <td id=\"T_af4e1d8a_9444_11ee_bdbb_96000040dfb6row2_col10\" class=\"data row2 col10\" ></td>\n",
       "                        <td id=\"T_af4e1d8a_9444_11ee_bdbb_96000040dfb6row2_col11\" class=\"data row2 col11\" ></td>\n",
       "                        <td id=\"T_af4e1d8a_9444_11ee_bdbb_96000040dfb6row2_col12\" class=\"data row2 col12\" ></td>\n",
       "                        <td id=\"T_af4e1d8a_9444_11ee_bdbb_96000040dfb6row2_col13\" class=\"data row2 col13\" ></td>\n",
       "                        <td id=\"T_af4e1d8a_9444_11ee_bdbb_96000040dfb6row2_col14\" class=\"data row2 col14\" ></td>\n",
       "                        <td id=\"T_af4e1d8a_9444_11ee_bdbb_96000040dfb6row2_col15\" class=\"data row2 col15\" ></td>\n",
       "                        <td id=\"T_af4e1d8a_9444_11ee_bdbb_96000040dfb6row2_col16\" class=\"data row2 col16\" ></td>\n",
       "                        <td id=\"T_af4e1d8a_9444_11ee_bdbb_96000040dfb6row2_col17\" class=\"data row2 col17\" ></td>\n",
       "                        <td id=\"T_af4e1d8a_9444_11ee_bdbb_96000040dfb6row2_col18\" class=\"data row2 col18\" ></td>\n",
       "                        <td id=\"T_af4e1d8a_9444_11ee_bdbb_96000040dfb6row2_col19\" class=\"data row2 col19\" ></td>\n",
       "            </tr>\n",
       "            <tr>\n",
       "                        <th id=\"T_af4e1d8a_9444_11ee_bdbb_96000040dfb6level0_row3\" class=\"row_heading level0 row3\" >2017-01</th>\n",
       "                        <td id=\"T_af4e1d8a_9444_11ee_bdbb_96000040dfb6row3_col0\" class=\"data row3 col0\" >100.00</td>\n",
       "                        <td id=\"T_af4e1d8a_9444_11ee_bdbb_96000040dfb6row3_col1\" class=\"data row3 col1\" >0.40</td>\n",
       "                        <td id=\"T_af4e1d8a_9444_11ee_bdbb_96000040dfb6row3_col2\" class=\"data row3 col2\" >0.27</td>\n",
       "                        <td id=\"T_af4e1d8a_9444_11ee_bdbb_96000040dfb6row3_col3\" class=\"data row3 col3\" >0.13</td>\n",
       "                        <td id=\"T_af4e1d8a_9444_11ee_bdbb_96000040dfb6row3_col4\" class=\"data row3 col4\" >0.40</td>\n",
       "                        <td id=\"T_af4e1d8a_9444_11ee_bdbb_96000040dfb6row3_col5\" class=\"data row3 col5\" >0.13</td>\n",
       "                        <td id=\"T_af4e1d8a_9444_11ee_bdbb_96000040dfb6row3_col6\" class=\"data row3 col6\" >0.40</td>\n",
       "                        <td id=\"T_af4e1d8a_9444_11ee_bdbb_96000040dfb6row3_col7\" class=\"data row3 col7\" >0.13</td>\n",
       "                        <td id=\"T_af4e1d8a_9444_11ee_bdbb_96000040dfb6row3_col8\" class=\"data row3 col8\" >0.13</td>\n",
       "                        <td id=\"T_af4e1d8a_9444_11ee_bdbb_96000040dfb6row3_col9\" class=\"data row3 col9\" ></td>\n",
       "                        <td id=\"T_af4e1d8a_9444_11ee_bdbb_96000040dfb6row3_col10\" class=\"data row3 col10\" >0.40</td>\n",
       "                        <td id=\"T_af4e1d8a_9444_11ee_bdbb_96000040dfb6row3_col11\" class=\"data row3 col11\" >0.13</td>\n",
       "                        <td id=\"T_af4e1d8a_9444_11ee_bdbb_96000040dfb6row3_col12\" class=\"data row3 col12\" >0.66</td>\n",
       "                        <td id=\"T_af4e1d8a_9444_11ee_bdbb_96000040dfb6row3_col13\" class=\"data row3 col13\" >0.40</td>\n",
       "                        <td id=\"T_af4e1d8a_9444_11ee_bdbb_96000040dfb6row3_col14\" class=\"data row3 col14\" >0.13</td>\n",
       "                        <td id=\"T_af4e1d8a_9444_11ee_bdbb_96000040dfb6row3_col15\" class=\"data row3 col15\" >0.13</td>\n",
       "                        <td id=\"T_af4e1d8a_9444_11ee_bdbb_96000040dfb6row3_col16\" class=\"data row3 col16\" >0.27</td>\n",
       "                        <td id=\"T_af4e1d8a_9444_11ee_bdbb_96000040dfb6row3_col17\" class=\"data row3 col17\" >0.40</td>\n",
       "                        <td id=\"T_af4e1d8a_9444_11ee_bdbb_96000040dfb6row3_col18\" class=\"data row3 col18\" >0.13</td>\n",
       "                        <td id=\"T_af4e1d8a_9444_11ee_bdbb_96000040dfb6row3_col19\" class=\"data row3 col19\" ></td>\n",
       "            </tr>\n",
       "            <tr>\n",
       "                        <th id=\"T_af4e1d8a_9444_11ee_bdbb_96000040dfb6level0_row4\" class=\"row_heading level0 row4\" >2017-02</th>\n",
       "                        <td id=\"T_af4e1d8a_9444_11ee_bdbb_96000040dfb6row4_col0\" class=\"data row4 col0\" >100.00</td>\n",
       "                        <td id=\"T_af4e1d8a_9444_11ee_bdbb_96000040dfb6row4_col1\" class=\"data row4 col1\" >0.24</td>\n",
       "                        <td id=\"T_af4e1d8a_9444_11ee_bdbb_96000040dfb6row4_col2\" class=\"data row4 col2\" >0.30</td>\n",
       "                        <td id=\"T_af4e1d8a_9444_11ee_bdbb_96000040dfb6row4_col3\" class=\"data row4 col3\" >0.12</td>\n",
       "                        <td id=\"T_af4e1d8a_9444_11ee_bdbb_96000040dfb6row4_col4\" class=\"data row4 col4\" >0.41</td>\n",
       "                        <td id=\"T_af4e1d8a_9444_11ee_bdbb_96000040dfb6row4_col5\" class=\"data row4 col5\" >0.12</td>\n",
       "                        <td id=\"T_af4e1d8a_9444_11ee_bdbb_96000040dfb6row4_col6\" class=\"data row4 col6\" >0.24</td>\n",
       "                        <td id=\"T_af4e1d8a_9444_11ee_bdbb_96000040dfb6row4_col7\" class=\"data row4 col7\" >0.18</td>\n",
       "                        <td id=\"T_af4e1d8a_9444_11ee_bdbb_96000040dfb6row4_col8\" class=\"data row4 col8\" >0.12</td>\n",
       "                        <td id=\"T_af4e1d8a_9444_11ee_bdbb_96000040dfb6row4_col9\" class=\"data row4 col9\" >0.18</td>\n",
       "                        <td id=\"T_af4e1d8a_9444_11ee_bdbb_96000040dfb6row4_col10\" class=\"data row4 col10\" >0.12</td>\n",
       "                        <td id=\"T_af4e1d8a_9444_11ee_bdbb_96000040dfb6row4_col11\" class=\"data row4 col11\" >0.30</td>\n",
       "                        <td id=\"T_af4e1d8a_9444_11ee_bdbb_96000040dfb6row4_col12\" class=\"data row4 col12\" >0.12</td>\n",
       "                        <td id=\"T_af4e1d8a_9444_11ee_bdbb_96000040dfb6row4_col13\" class=\"data row4 col13\" >0.18</td>\n",
       "                        <td id=\"T_af4e1d8a_9444_11ee_bdbb_96000040dfb6row4_col14\" class=\"data row4 col14\" >0.12</td>\n",
       "                        <td id=\"T_af4e1d8a_9444_11ee_bdbb_96000040dfb6row4_col15\" class=\"data row4 col15\" >0.06</td>\n",
       "                        <td id=\"T_af4e1d8a_9444_11ee_bdbb_96000040dfb6row4_col16\" class=\"data row4 col16\" >0.06</td>\n",
       "                        <td id=\"T_af4e1d8a_9444_11ee_bdbb_96000040dfb6row4_col17\" class=\"data row4 col17\" >0.24</td>\n",
       "                        <td id=\"T_af4e1d8a_9444_11ee_bdbb_96000040dfb6row4_col18\" class=\"data row4 col18\" ></td>\n",
       "                        <td id=\"T_af4e1d8a_9444_11ee_bdbb_96000040dfb6row4_col19\" class=\"data row4 col19\" ></td>\n",
       "            </tr>\n",
       "            <tr>\n",
       "                        <th id=\"T_af4e1d8a_9444_11ee_bdbb_96000040dfb6level0_row5\" class=\"row_heading level0 row5\" >2017-03</th>\n",
       "                        <td id=\"T_af4e1d8a_9444_11ee_bdbb_96000040dfb6row5_col0\" class=\"data row5 col0\" >100.00</td>\n",
       "                        <td id=\"T_af4e1d8a_9444_11ee_bdbb_96000040dfb6row5_col1\" class=\"data row5 col1\" >0.51</td>\n",
       "                        <td id=\"T_af4e1d8a_9444_11ee_bdbb_96000040dfb6row5_col2\" class=\"data row5 col2\" >0.35</td>\n",
       "                        <td id=\"T_af4e1d8a_9444_11ee_bdbb_96000040dfb6row5_col3\" class=\"data row5 col3\" >0.39</td>\n",
       "                        <td id=\"T_af4e1d8a_9444_11ee_bdbb_96000040dfb6row5_col4\" class=\"data row5 col4\" >0.35</td>\n",
       "                        <td id=\"T_af4e1d8a_9444_11ee_bdbb_96000040dfb6row5_col5\" class=\"data row5 col5\" >0.16</td>\n",
       "                        <td id=\"T_af4e1d8a_9444_11ee_bdbb_96000040dfb6row5_col6\" class=\"data row5 col6\" >0.16</td>\n",
       "                        <td id=\"T_af4e1d8a_9444_11ee_bdbb_96000040dfb6row5_col7\" class=\"data row5 col7\" >0.31</td>\n",
       "                        <td id=\"T_af4e1d8a_9444_11ee_bdbb_96000040dfb6row5_col8\" class=\"data row5 col8\" >0.35</td>\n",
       "                        <td id=\"T_af4e1d8a_9444_11ee_bdbb_96000040dfb6row5_col9\" class=\"data row5 col9\" >0.08</td>\n",
       "                        <td id=\"T_af4e1d8a_9444_11ee_bdbb_96000040dfb6row5_col10\" class=\"data row5 col10\" >0.39</td>\n",
       "                        <td id=\"T_af4e1d8a_9444_11ee_bdbb_96000040dfb6row5_col11\" class=\"data row5 col11\" >0.12</td>\n",
       "                        <td id=\"T_af4e1d8a_9444_11ee_bdbb_96000040dfb6row5_col12\" class=\"data row5 col12\" >0.23</td>\n",
       "                        <td id=\"T_af4e1d8a_9444_11ee_bdbb_96000040dfb6row5_col13\" class=\"data row5 col13\" >0.12</td>\n",
       "                        <td id=\"T_af4e1d8a_9444_11ee_bdbb_96000040dfb6row5_col14\" class=\"data row5 col14\" >0.16</td>\n",
       "                        <td id=\"T_af4e1d8a_9444_11ee_bdbb_96000040dfb6row5_col15\" class=\"data row5 col15\" >0.23</td>\n",
       "                        <td id=\"T_af4e1d8a_9444_11ee_bdbb_96000040dfb6row5_col16\" class=\"data row5 col16\" >0.08</td>\n",
       "                        <td id=\"T_af4e1d8a_9444_11ee_bdbb_96000040dfb6row5_col17\" class=\"data row5 col17\" >0.16</td>\n",
       "                        <td id=\"T_af4e1d8a_9444_11ee_bdbb_96000040dfb6row5_col18\" class=\"data row5 col18\" ></td>\n",
       "                        <td id=\"T_af4e1d8a_9444_11ee_bdbb_96000040dfb6row5_col19\" class=\"data row5 col19\" ></td>\n",
       "            </tr>\n",
       "            <tr>\n",
       "                        <th id=\"T_af4e1d8a_9444_11ee_bdbb_96000040dfb6level0_row6\" class=\"row_heading level0 row6\" >2017-04</th>\n",
       "                        <td id=\"T_af4e1d8a_9444_11ee_bdbb_96000040dfb6row6_col0\" class=\"data row6 col0\" >100.00</td>\n",
       "                        <td id=\"T_af4e1d8a_9444_11ee_bdbb_96000040dfb6row6_col1\" class=\"data row6 col1\" >0.60</td>\n",
       "                        <td id=\"T_af4e1d8a_9444_11ee_bdbb_96000040dfb6row6_col2\" class=\"data row6 col2\" >0.22</td>\n",
       "                        <td id=\"T_af4e1d8a_9444_11ee_bdbb_96000040dfb6row6_col3\" class=\"data row6 col3\" >0.17</td>\n",
       "                        <td id=\"T_af4e1d8a_9444_11ee_bdbb_96000040dfb6row6_col4\" class=\"data row6 col4\" >0.30</td>\n",
       "                        <td id=\"T_af4e1d8a_9444_11ee_bdbb_96000040dfb6row6_col5\" class=\"data row6 col5\" >0.26</td>\n",
       "                        <td id=\"T_af4e1d8a_9444_11ee_bdbb_96000040dfb6row6_col6\" class=\"data row6 col6\" >0.34</td>\n",
       "                        <td id=\"T_af4e1d8a_9444_11ee_bdbb_96000040dfb6row6_col7\" class=\"data row6 col7\" >0.30</td>\n",
       "                        <td id=\"T_af4e1d8a_9444_11ee_bdbb_96000040dfb6row6_col8\" class=\"data row6 col8\" >0.30</td>\n",
       "                        <td id=\"T_af4e1d8a_9444_11ee_bdbb_96000040dfb6row6_col9\" class=\"data row6 col9\" >0.17</td>\n",
       "                        <td id=\"T_af4e1d8a_9444_11ee_bdbb_96000040dfb6row6_col10\" class=\"data row6 col10\" >0.26</td>\n",
       "                        <td id=\"T_af4e1d8a_9444_11ee_bdbb_96000040dfb6row6_col11\" class=\"data row6 col11\" >0.09</td>\n",
       "                        <td id=\"T_af4e1d8a_9444_11ee_bdbb_96000040dfb6row6_col12\" class=\"data row6 col12\" >0.09</td>\n",
       "                        <td id=\"T_af4e1d8a_9444_11ee_bdbb_96000040dfb6row6_col13\" class=\"data row6 col13\" >0.04</td>\n",
       "                        <td id=\"T_af4e1d8a_9444_11ee_bdbb_96000040dfb6row6_col14\" class=\"data row6 col14\" >0.09</td>\n",
       "                        <td id=\"T_af4e1d8a_9444_11ee_bdbb_96000040dfb6row6_col15\" class=\"data row6 col15\" >0.09</td>\n",
       "                        <td id=\"T_af4e1d8a_9444_11ee_bdbb_96000040dfb6row6_col16\" class=\"data row6 col16\" >0.13</td>\n",
       "                        <td id=\"T_af4e1d8a_9444_11ee_bdbb_96000040dfb6row6_col17\" class=\"data row6 col17\" ></td>\n",
       "                        <td id=\"T_af4e1d8a_9444_11ee_bdbb_96000040dfb6row6_col18\" class=\"data row6 col18\" ></td>\n",
       "                        <td id=\"T_af4e1d8a_9444_11ee_bdbb_96000040dfb6row6_col19\" class=\"data row6 col19\" ></td>\n",
       "            </tr>\n",
       "            <tr>\n",
       "                        <th id=\"T_af4e1d8a_9444_11ee_bdbb_96000040dfb6level0_row7\" class=\"row_heading level0 row7\" >2017-05</th>\n",
       "                        <td id=\"T_af4e1d8a_9444_11ee_bdbb_96000040dfb6row7_col0\" class=\"data row7 col0\" >100.00</td>\n",
       "                        <td id=\"T_af4e1d8a_9444_11ee_bdbb_96000040dfb6row7_col1\" class=\"data row7 col1\" >0.48</td>\n",
       "                        <td id=\"T_af4e1d8a_9444_11ee_bdbb_96000040dfb6row7_col2\" class=\"data row7 col2\" >0.48</td>\n",
       "                        <td id=\"T_af4e1d8a_9444_11ee_bdbb_96000040dfb6row7_col3\" class=\"data row7 col3\" >0.40</td>\n",
       "                        <td id=\"T_af4e1d8a_9444_11ee_bdbb_96000040dfb6row7_col4\" class=\"data row7 col4\" >0.31</td>\n",
       "                        <td id=\"T_af4e1d8a_9444_11ee_bdbb_96000040dfb6row7_col5\" class=\"data row7 col5\" >0.34</td>\n",
       "                        <td id=\"T_af4e1d8a_9444_11ee_bdbb_96000040dfb6row7_col6\" class=\"data row7 col6\" >0.42</td>\n",
       "                        <td id=\"T_af4e1d8a_9444_11ee_bdbb_96000040dfb6row7_col7\" class=\"data row7 col7\" >0.14</td>\n",
       "                        <td id=\"T_af4e1d8a_9444_11ee_bdbb_96000040dfb6row7_col8\" class=\"data row7 col8\" >0.25</td>\n",
       "                        <td id=\"T_af4e1d8a_9444_11ee_bdbb_96000040dfb6row7_col9\" class=\"data row7 col9\" >0.25</td>\n",
       "                        <td id=\"T_af4e1d8a_9444_11ee_bdbb_96000040dfb6row7_col10\" class=\"data row7 col10\" >0.25</td>\n",
       "                        <td id=\"T_af4e1d8a_9444_11ee_bdbb_96000040dfb6row7_col11\" class=\"data row7 col11\" >0.34</td>\n",
       "                        <td id=\"T_af4e1d8a_9444_11ee_bdbb_96000040dfb6row7_col12\" class=\"data row7 col12\" >0.25</td>\n",
       "                        <td id=\"T_af4e1d8a_9444_11ee_bdbb_96000040dfb6row7_col13\" class=\"data row7 col13\" >0.03</td>\n",
       "                        <td id=\"T_af4e1d8a_9444_11ee_bdbb_96000040dfb6row7_col14\" class=\"data row7 col14\" >0.20</td>\n",
       "                        <td id=\"T_af4e1d8a_9444_11ee_bdbb_96000040dfb6row7_col15\" class=\"data row7 col15\" >0.23</td>\n",
       "                        <td id=\"T_af4e1d8a_9444_11ee_bdbb_96000040dfb6row7_col16\" class=\"data row7 col16\" ></td>\n",
       "                        <td id=\"T_af4e1d8a_9444_11ee_bdbb_96000040dfb6row7_col17\" class=\"data row7 col17\" ></td>\n",
       "                        <td id=\"T_af4e1d8a_9444_11ee_bdbb_96000040dfb6row7_col18\" class=\"data row7 col18\" ></td>\n",
       "                        <td id=\"T_af4e1d8a_9444_11ee_bdbb_96000040dfb6row7_col19\" class=\"data row7 col19\" ></td>\n",
       "            </tr>\n",
       "            <tr>\n",
       "                        <th id=\"T_af4e1d8a_9444_11ee_bdbb_96000040dfb6level0_row8\" class=\"row_heading level0 row8\" >2017-06</th>\n",
       "                        <td id=\"T_af4e1d8a_9444_11ee_bdbb_96000040dfb6row8_col0\" class=\"data row8 col0\" >100.00</td>\n",
       "                        <td id=\"T_af4e1d8a_9444_11ee_bdbb_96000040dfb6row8_col1\" class=\"data row8 col1\" >0.45</td>\n",
       "                        <td id=\"T_af4e1d8a_9444_11ee_bdbb_96000040dfb6row8_col2\" class=\"data row8 col2\" >0.35</td>\n",
       "                        <td id=\"T_af4e1d8a_9444_11ee_bdbb_96000040dfb6row8_col3\" class=\"data row8 col3\" >0.39</td>\n",
       "                        <td id=\"T_af4e1d8a_9444_11ee_bdbb_96000040dfb6row8_col4\" class=\"data row8 col4\" >0.26</td>\n",
       "                        <td id=\"T_af4e1d8a_9444_11ee_bdbb_96000040dfb6row8_col5\" class=\"data row8 col5\" >0.39</td>\n",
       "                        <td id=\"T_af4e1d8a_9444_11ee_bdbb_96000040dfb6row8_col6\" class=\"data row8 col6\" >0.35</td>\n",
       "                        <td id=\"T_af4e1d8a_9444_11ee_bdbb_96000040dfb6row8_col7\" class=\"data row8 col7\" >0.23</td>\n",
       "                        <td id=\"T_af4e1d8a_9444_11ee_bdbb_96000040dfb6row8_col8\" class=\"data row8 col8\" >0.13</td>\n",
       "                        <td id=\"T_af4e1d8a_9444_11ee_bdbb_96000040dfb6row8_col9\" class=\"data row8 col9\" >0.23</td>\n",
       "                        <td id=\"T_af4e1d8a_9444_11ee_bdbb_96000040dfb6row8_col10\" class=\"data row8 col10\" >0.32</td>\n",
       "                        <td id=\"T_af4e1d8a_9444_11ee_bdbb_96000040dfb6row8_col11\" class=\"data row8 col11\" >0.32</td>\n",
       "                        <td id=\"T_af4e1d8a_9444_11ee_bdbb_96000040dfb6row8_col12\" class=\"data row8 col12\" >0.16</td>\n",
       "                        <td id=\"T_af4e1d8a_9444_11ee_bdbb_96000040dfb6row8_col13\" class=\"data row8 col13\" >0.13</td>\n",
       "                        <td id=\"T_af4e1d8a_9444_11ee_bdbb_96000040dfb6row8_col14\" class=\"data row8 col14\" >0.19</td>\n",
       "                        <td id=\"T_af4e1d8a_9444_11ee_bdbb_96000040dfb6row8_col15\" class=\"data row8 col15\" ></td>\n",
       "                        <td id=\"T_af4e1d8a_9444_11ee_bdbb_96000040dfb6row8_col16\" class=\"data row8 col16\" ></td>\n",
       "                        <td id=\"T_af4e1d8a_9444_11ee_bdbb_96000040dfb6row8_col17\" class=\"data row8 col17\" ></td>\n",
       "                        <td id=\"T_af4e1d8a_9444_11ee_bdbb_96000040dfb6row8_col18\" class=\"data row8 col18\" ></td>\n",
       "                        <td id=\"T_af4e1d8a_9444_11ee_bdbb_96000040dfb6row8_col19\" class=\"data row8 col19\" ></td>\n",
       "            </tr>\n",
       "            <tr>\n",
       "                        <th id=\"T_af4e1d8a_9444_11ee_bdbb_96000040dfb6level0_row9\" class=\"row_heading level0 row9\" >2017-07</th>\n",
       "                        <td id=\"T_af4e1d8a_9444_11ee_bdbb_96000040dfb6row9_col0\" class=\"data row9 col0\" >100.00</td>\n",
       "                        <td id=\"T_af4e1d8a_9444_11ee_bdbb_96000040dfb6row9_col1\" class=\"data row9 col1\" >0.52</td>\n",
       "                        <td id=\"T_af4e1d8a_9444_11ee_bdbb_96000040dfb6row9_col2\" class=\"data row9 col2\" >0.34</td>\n",
       "                        <td id=\"T_af4e1d8a_9444_11ee_bdbb_96000040dfb6row9_col3\" class=\"data row9 col3\" >0.24</td>\n",
       "                        <td id=\"T_af4e1d8a_9444_11ee_bdbb_96000040dfb6row9_col4\" class=\"data row9 col4\" >0.29</td>\n",
       "                        <td id=\"T_af4e1d8a_9444_11ee_bdbb_96000040dfb6row9_col5\" class=\"data row9 col5\" >0.21</td>\n",
       "                        <td id=\"T_af4e1d8a_9444_11ee_bdbb_96000040dfb6row9_col6\" class=\"data row9 col6\" >0.31</td>\n",
       "                        <td id=\"T_af4e1d8a_9444_11ee_bdbb_96000040dfb6row9_col7\" class=\"data row9 col7\" >0.10</td>\n",
       "                        <td id=\"T_af4e1d8a_9444_11ee_bdbb_96000040dfb6row9_col8\" class=\"data row9 col8\" >0.18</td>\n",
       "                        <td id=\"T_af4e1d8a_9444_11ee_bdbb_96000040dfb6row9_col9\" class=\"data row9 col9\" >0.26</td>\n",
       "                        <td id=\"T_af4e1d8a_9444_11ee_bdbb_96000040dfb6row9_col10\" class=\"data row9 col10\" >0.21</td>\n",
       "                        <td id=\"T_af4e1d8a_9444_11ee_bdbb_96000040dfb6row9_col11\" class=\"data row9 col11\" >0.29</td>\n",
       "                        <td id=\"T_af4e1d8a_9444_11ee_bdbb_96000040dfb6row9_col12\" class=\"data row9 col12\" >0.13</td>\n",
       "                        <td id=\"T_af4e1d8a_9444_11ee_bdbb_96000040dfb6row9_col13\" class=\"data row9 col13\" >0.26</td>\n",
       "                        <td id=\"T_af4e1d8a_9444_11ee_bdbb_96000040dfb6row9_col14\" class=\"data row9 col14\" ></td>\n",
       "                        <td id=\"T_af4e1d8a_9444_11ee_bdbb_96000040dfb6row9_col15\" class=\"data row9 col15\" ></td>\n",
       "                        <td id=\"T_af4e1d8a_9444_11ee_bdbb_96000040dfb6row9_col16\" class=\"data row9 col16\" ></td>\n",
       "                        <td id=\"T_af4e1d8a_9444_11ee_bdbb_96000040dfb6row9_col17\" class=\"data row9 col17\" ></td>\n",
       "                        <td id=\"T_af4e1d8a_9444_11ee_bdbb_96000040dfb6row9_col18\" class=\"data row9 col18\" ></td>\n",
       "                        <td id=\"T_af4e1d8a_9444_11ee_bdbb_96000040dfb6row9_col19\" class=\"data row9 col19\" ></td>\n",
       "            </tr>\n",
       "            <tr>\n",
       "                        <th id=\"T_af4e1d8a_9444_11ee_bdbb_96000040dfb6level0_row10\" class=\"row_heading level0 row10\" >2017-08</th>\n",
       "                        <td id=\"T_af4e1d8a_9444_11ee_bdbb_96000040dfb6row10_col0\" class=\"data row10 col0\" >100.00</td>\n",
       "                        <td id=\"T_af4e1d8a_9444_11ee_bdbb_96000040dfb6row10_col1\" class=\"data row10 col1\" >0.68</td>\n",
       "                        <td id=\"T_af4e1d8a_9444_11ee_bdbb_96000040dfb6row10_col2\" class=\"data row10 col2\" >0.34</td>\n",
       "                        <td id=\"T_af4e1d8a_9444_11ee_bdbb_96000040dfb6row10_col3\" class=\"data row10 col3\" >0.27</td>\n",
       "                        <td id=\"T_af4e1d8a_9444_11ee_bdbb_96000040dfb6row10_col4\" class=\"data row10 col4\" >0.36</td>\n",
       "                        <td id=\"T_af4e1d8a_9444_11ee_bdbb_96000040dfb6row10_col5\" class=\"data row10 col5\" >0.53</td>\n",
       "                        <td id=\"T_af4e1d8a_9444_11ee_bdbb_96000040dfb6row10_col6\" class=\"data row10 col6\" >0.29</td>\n",
       "                        <td id=\"T_af4e1d8a_9444_11ee_bdbb_96000040dfb6row10_col7\" class=\"data row10 col7\" >0.27</td>\n",
       "                        <td id=\"T_af4e1d8a_9444_11ee_bdbb_96000040dfb6row10_col8\" class=\"data row10 col8\" >0.15</td>\n",
       "                        <td id=\"T_af4e1d8a_9444_11ee_bdbb_96000040dfb6row10_col9\" class=\"data row10 col9\" >0.15</td>\n",
       "                        <td id=\"T_af4e1d8a_9444_11ee_bdbb_96000040dfb6row10_col10\" class=\"data row10 col10\" >0.24</td>\n",
       "                        <td id=\"T_af4e1d8a_9444_11ee_bdbb_96000040dfb6row10_col11\" class=\"data row10 col11\" >0.19</td>\n",
       "                        <td id=\"T_af4e1d8a_9444_11ee_bdbb_96000040dfb6row10_col12\" class=\"data row10 col12\" >0.12</td>\n",
       "                        <td id=\"T_af4e1d8a_9444_11ee_bdbb_96000040dfb6row10_col13\" class=\"data row10 col13\" ></td>\n",
       "                        <td id=\"T_af4e1d8a_9444_11ee_bdbb_96000040dfb6row10_col14\" class=\"data row10 col14\" ></td>\n",
       "                        <td id=\"T_af4e1d8a_9444_11ee_bdbb_96000040dfb6row10_col15\" class=\"data row10 col15\" ></td>\n",
       "                        <td id=\"T_af4e1d8a_9444_11ee_bdbb_96000040dfb6row10_col16\" class=\"data row10 col16\" ></td>\n",
       "                        <td id=\"T_af4e1d8a_9444_11ee_bdbb_96000040dfb6row10_col17\" class=\"data row10 col17\" ></td>\n",
       "                        <td id=\"T_af4e1d8a_9444_11ee_bdbb_96000040dfb6row10_col18\" class=\"data row10 col18\" ></td>\n",
       "                        <td id=\"T_af4e1d8a_9444_11ee_bdbb_96000040dfb6row10_col19\" class=\"data row10 col19\" ></td>\n",
       "            </tr>\n",
       "            <tr>\n",
       "                        <th id=\"T_af4e1d8a_9444_11ee_bdbb_96000040dfb6level0_row11\" class=\"row_heading level0 row11\" >2017-09</th>\n",
       "                        <td id=\"T_af4e1d8a_9444_11ee_bdbb_96000040dfb6row11_col0\" class=\"data row11 col0\" >100.00</td>\n",
       "                        <td id=\"T_af4e1d8a_9444_11ee_bdbb_96000040dfb6row11_col1\" class=\"data row11 col1\" >0.69</td>\n",
       "                        <td id=\"T_af4e1d8a_9444_11ee_bdbb_96000040dfb6row11_col2\" class=\"data row11 col2\" >0.54</td>\n",
       "                        <td id=\"T_af4e1d8a_9444_11ee_bdbb_96000040dfb6row11_col3\" class=\"data row11 col3\" >0.29</td>\n",
       "                        <td id=\"T_af4e1d8a_9444_11ee_bdbb_96000040dfb6row11_col4\" class=\"data row11 col4\" >0.44</td>\n",
       "                        <td id=\"T_af4e1d8a_9444_11ee_bdbb_96000040dfb6row11_col5\" class=\"data row11 col5\" >0.22</td>\n",
       "                        <td id=\"T_af4e1d8a_9444_11ee_bdbb_96000040dfb6row11_col6\" class=\"data row11 col6\" >0.22</td>\n",
       "                        <td id=\"T_af4e1d8a_9444_11ee_bdbb_96000040dfb6row11_col7\" class=\"data row11 col7\" >0.25</td>\n",
       "                        <td id=\"T_af4e1d8a_9444_11ee_bdbb_96000040dfb6row11_col8\" class=\"data row11 col8\" >0.29</td>\n",
       "                        <td id=\"T_af4e1d8a_9444_11ee_bdbb_96000040dfb6row11_col9\" class=\"data row11 col9\" >0.17</td>\n",
       "                        <td id=\"T_af4e1d8a_9444_11ee_bdbb_96000040dfb6row11_col10\" class=\"data row11 col10\" >0.27</td>\n",
       "                        <td id=\"T_af4e1d8a_9444_11ee_bdbb_96000040dfb6row11_col11\" class=\"data row11 col11\" >0.07</td>\n",
       "                        <td id=\"T_af4e1d8a_9444_11ee_bdbb_96000040dfb6row11_col12\" class=\"data row11 col12\" ></td>\n",
       "                        <td id=\"T_af4e1d8a_9444_11ee_bdbb_96000040dfb6row11_col13\" class=\"data row11 col13\" ></td>\n",
       "                        <td id=\"T_af4e1d8a_9444_11ee_bdbb_96000040dfb6row11_col14\" class=\"data row11 col14\" ></td>\n",
       "                        <td id=\"T_af4e1d8a_9444_11ee_bdbb_96000040dfb6row11_col15\" class=\"data row11 col15\" ></td>\n",
       "                        <td id=\"T_af4e1d8a_9444_11ee_bdbb_96000040dfb6row11_col16\" class=\"data row11 col16\" ></td>\n",
       "                        <td id=\"T_af4e1d8a_9444_11ee_bdbb_96000040dfb6row11_col17\" class=\"data row11 col17\" ></td>\n",
       "                        <td id=\"T_af4e1d8a_9444_11ee_bdbb_96000040dfb6row11_col18\" class=\"data row11 col18\" ></td>\n",
       "                        <td id=\"T_af4e1d8a_9444_11ee_bdbb_96000040dfb6row11_col19\" class=\"data row11 col19\" ></td>\n",
       "            </tr>\n",
       "            <tr>\n",
       "                        <th id=\"T_af4e1d8a_9444_11ee_bdbb_96000040dfb6level0_row12\" class=\"row_heading level0 row12\" >2017-10</th>\n",
       "                        <td id=\"T_af4e1d8a_9444_11ee_bdbb_96000040dfb6row12_col0\" class=\"data row12 col0\" >100.00</td>\n",
       "                        <td id=\"T_af4e1d8a_9444_11ee_bdbb_96000040dfb6row12_col1\" class=\"data row12 col1\" >0.71</td>\n",
       "                        <td id=\"T_af4e1d8a_9444_11ee_bdbb_96000040dfb6row12_col2\" class=\"data row12 col2\" >0.25</td>\n",
       "                        <td id=\"T_af4e1d8a_9444_11ee_bdbb_96000040dfb6row12_col3\" class=\"data row12 col3\" >0.09</td>\n",
       "                        <td id=\"T_af4e1d8a_9444_11ee_bdbb_96000040dfb6row12_col4\" class=\"data row12 col4\" >0.23</td>\n",
       "                        <td id=\"T_af4e1d8a_9444_11ee_bdbb_96000040dfb6row12_col5\" class=\"data row12 col5\" >0.20</td>\n",
       "                        <td id=\"T_af4e1d8a_9444_11ee_bdbb_96000040dfb6row12_col6\" class=\"data row12 col6\" >0.20</td>\n",
       "                        <td id=\"T_af4e1d8a_9444_11ee_bdbb_96000040dfb6row12_col7\" class=\"data row12 col7\" >0.36</td>\n",
       "                        <td id=\"T_af4e1d8a_9444_11ee_bdbb_96000040dfb6row12_col8\" class=\"data row12 col8\" >0.27</td>\n",
       "                        <td id=\"T_af4e1d8a_9444_11ee_bdbb_96000040dfb6row12_col9\" class=\"data row12 col9\" >0.20</td>\n",
       "                        <td id=\"T_af4e1d8a_9444_11ee_bdbb_96000040dfb6row12_col10\" class=\"data row12 col10\" >0.20</td>\n",
       "                        <td id=\"T_af4e1d8a_9444_11ee_bdbb_96000040dfb6row12_col11\" class=\"data row12 col11\" ></td>\n",
       "                        <td id=\"T_af4e1d8a_9444_11ee_bdbb_96000040dfb6row12_col12\" class=\"data row12 col12\" ></td>\n",
       "                        <td id=\"T_af4e1d8a_9444_11ee_bdbb_96000040dfb6row12_col13\" class=\"data row12 col13\" ></td>\n",
       "                        <td id=\"T_af4e1d8a_9444_11ee_bdbb_96000040dfb6row12_col14\" class=\"data row12 col14\" ></td>\n",
       "                        <td id=\"T_af4e1d8a_9444_11ee_bdbb_96000040dfb6row12_col15\" class=\"data row12 col15\" ></td>\n",
       "                        <td id=\"T_af4e1d8a_9444_11ee_bdbb_96000040dfb6row12_col16\" class=\"data row12 col16\" ></td>\n",
       "                        <td id=\"T_af4e1d8a_9444_11ee_bdbb_96000040dfb6row12_col17\" class=\"data row12 col17\" ></td>\n",
       "                        <td id=\"T_af4e1d8a_9444_11ee_bdbb_96000040dfb6row12_col18\" class=\"data row12 col18\" ></td>\n",
       "                        <td id=\"T_af4e1d8a_9444_11ee_bdbb_96000040dfb6row12_col19\" class=\"data row12 col19\" ></td>\n",
       "            </tr>\n",
       "            <tr>\n",
       "                        <th id=\"T_af4e1d8a_9444_11ee_bdbb_96000040dfb6level0_row13\" class=\"row_heading level0 row13\" >2017-11</th>\n",
       "                        <td id=\"T_af4e1d8a_9444_11ee_bdbb_96000040dfb6row13_col0\" class=\"data row13 col0\" >100.00</td>\n",
       "                        <td id=\"T_af4e1d8a_9444_11ee_bdbb_96000040dfb6row13_col1\" class=\"data row13 col1\" >0.56</td>\n",
       "                        <td id=\"T_af4e1d8a_9444_11ee_bdbb_96000040dfb6row13_col2\" class=\"data row13 col2\" >0.39</td>\n",
       "                        <td id=\"T_af4e1d8a_9444_11ee_bdbb_96000040dfb6row13_col3\" class=\"data row13 col3\" >0.17</td>\n",
       "                        <td id=\"T_af4e1d8a_9444_11ee_bdbb_96000040dfb6row13_col4\" class=\"data row13 col4\" >0.19</td>\n",
       "                        <td id=\"T_af4e1d8a_9444_11ee_bdbb_96000040dfb6row13_col5\" class=\"data row13 col5\" >0.18</td>\n",
       "                        <td id=\"T_af4e1d8a_9444_11ee_bdbb_96000040dfb6row13_col6\" class=\"data row13 col6\" >0.11</td>\n",
       "                        <td id=\"T_af4e1d8a_9444_11ee_bdbb_96000040dfb6row13_col7\" class=\"data row13 col7\" >0.19</td>\n",
       "                        <td id=\"T_af4e1d8a_9444_11ee_bdbb_96000040dfb6row13_col8\" class=\"data row13 col8\" >0.13</td>\n",
       "                        <td id=\"T_af4e1d8a_9444_11ee_bdbb_96000040dfb6row13_col9\" class=\"data row13 col9\" >0.06</td>\n",
       "                        <td id=\"T_af4e1d8a_9444_11ee_bdbb_96000040dfb6row13_col10\" class=\"data row13 col10\" ></td>\n",
       "                        <td id=\"T_af4e1d8a_9444_11ee_bdbb_96000040dfb6row13_col11\" class=\"data row13 col11\" ></td>\n",
       "                        <td id=\"T_af4e1d8a_9444_11ee_bdbb_96000040dfb6row13_col12\" class=\"data row13 col12\" ></td>\n",
       "                        <td id=\"T_af4e1d8a_9444_11ee_bdbb_96000040dfb6row13_col13\" class=\"data row13 col13\" ></td>\n",
       "                        <td id=\"T_af4e1d8a_9444_11ee_bdbb_96000040dfb6row13_col14\" class=\"data row13 col14\" ></td>\n",
       "                        <td id=\"T_af4e1d8a_9444_11ee_bdbb_96000040dfb6row13_col15\" class=\"data row13 col15\" ></td>\n",
       "                        <td id=\"T_af4e1d8a_9444_11ee_bdbb_96000040dfb6row13_col16\" class=\"data row13 col16\" ></td>\n",
       "                        <td id=\"T_af4e1d8a_9444_11ee_bdbb_96000040dfb6row13_col17\" class=\"data row13 col17\" ></td>\n",
       "                        <td id=\"T_af4e1d8a_9444_11ee_bdbb_96000040dfb6row13_col18\" class=\"data row13 col18\" ></td>\n",
       "                        <td id=\"T_af4e1d8a_9444_11ee_bdbb_96000040dfb6row13_col19\" class=\"data row13 col19\" ></td>\n",
       "            </tr>\n",
       "            <tr>\n",
       "                        <th id=\"T_af4e1d8a_9444_11ee_bdbb_96000040dfb6level0_row14\" class=\"row_heading level0 row14\" >2017-12</th>\n",
       "                        <td id=\"T_af4e1d8a_9444_11ee_bdbb_96000040dfb6row14_col0\" class=\"data row14 col0\" >100.00</td>\n",
       "                        <td id=\"T_af4e1d8a_9444_11ee_bdbb_96000040dfb6row14_col1\" class=\"data row14 col1\" >0.22</td>\n",
       "                        <td id=\"T_af4e1d8a_9444_11ee_bdbb_96000040dfb6row14_col2\" class=\"data row14 col2\" >0.28</td>\n",
       "                        <td id=\"T_af4e1d8a_9444_11ee_bdbb_96000040dfb6row14_col3\" class=\"data row14 col3\" >0.35</td>\n",
       "                        <td id=\"T_af4e1d8a_9444_11ee_bdbb_96000040dfb6row14_col4\" class=\"data row14 col4\" >0.26</td>\n",
       "                        <td id=\"T_af4e1d8a_9444_11ee_bdbb_96000040dfb6row14_col5\" class=\"data row14 col5\" >0.20</td>\n",
       "                        <td id=\"T_af4e1d8a_9444_11ee_bdbb_96000040dfb6row14_col6\" class=\"data row14 col6\" >0.17</td>\n",
       "                        <td id=\"T_af4e1d8a_9444_11ee_bdbb_96000040dfb6row14_col7\" class=\"data row14 col7\" >0.04</td>\n",
       "                        <td id=\"T_af4e1d8a_9444_11ee_bdbb_96000040dfb6row14_col8\" class=\"data row14 col8\" >0.22</td>\n",
       "                        <td id=\"T_af4e1d8a_9444_11ee_bdbb_96000040dfb6row14_col9\" class=\"data row14 col9\" ></td>\n",
       "                        <td id=\"T_af4e1d8a_9444_11ee_bdbb_96000040dfb6row14_col10\" class=\"data row14 col10\" ></td>\n",
       "                        <td id=\"T_af4e1d8a_9444_11ee_bdbb_96000040dfb6row14_col11\" class=\"data row14 col11\" ></td>\n",
       "                        <td id=\"T_af4e1d8a_9444_11ee_bdbb_96000040dfb6row14_col12\" class=\"data row14 col12\" ></td>\n",
       "                        <td id=\"T_af4e1d8a_9444_11ee_bdbb_96000040dfb6row14_col13\" class=\"data row14 col13\" ></td>\n",
       "                        <td id=\"T_af4e1d8a_9444_11ee_bdbb_96000040dfb6row14_col14\" class=\"data row14 col14\" ></td>\n",
       "                        <td id=\"T_af4e1d8a_9444_11ee_bdbb_96000040dfb6row14_col15\" class=\"data row14 col15\" ></td>\n",
       "                        <td id=\"T_af4e1d8a_9444_11ee_bdbb_96000040dfb6row14_col16\" class=\"data row14 col16\" ></td>\n",
       "                        <td id=\"T_af4e1d8a_9444_11ee_bdbb_96000040dfb6row14_col17\" class=\"data row14 col17\" ></td>\n",
       "                        <td id=\"T_af4e1d8a_9444_11ee_bdbb_96000040dfb6row14_col18\" class=\"data row14 col18\" ></td>\n",
       "                        <td id=\"T_af4e1d8a_9444_11ee_bdbb_96000040dfb6row14_col19\" class=\"data row14 col19\" ></td>\n",
       "            </tr>\n",
       "            <tr>\n",
       "                        <th id=\"T_af4e1d8a_9444_11ee_bdbb_96000040dfb6level0_row15\" class=\"row_heading level0 row15\" >2018-01</th>\n",
       "                        <td id=\"T_af4e1d8a_9444_11ee_bdbb_96000040dfb6row15_col0\" class=\"data row15 col0\" >100.00</td>\n",
       "                        <td id=\"T_af4e1d8a_9444_11ee_bdbb_96000040dfb6row15_col1\" class=\"data row15 col1\" >0.33</td>\n",
       "                        <td id=\"T_af4e1d8a_9444_11ee_bdbb_96000040dfb6row15_col2\" class=\"data row15 col2\" >0.36</td>\n",
       "                        <td id=\"T_af4e1d8a_9444_11ee_bdbb_96000040dfb6row15_col3\" class=\"data row15 col3\" >0.29</td>\n",
       "                        <td id=\"T_af4e1d8a_9444_11ee_bdbb_96000040dfb6row15_col4\" class=\"data row15 col4\" >0.29</td>\n",
       "                        <td id=\"T_af4e1d8a_9444_11ee_bdbb_96000040dfb6row15_col5\" class=\"data row15 col5\" >0.16</td>\n",
       "                        <td id=\"T_af4e1d8a_9444_11ee_bdbb_96000040dfb6row15_col6\" class=\"data row15 col6\" >0.17</td>\n",
       "                        <td id=\"T_af4e1d8a_9444_11ee_bdbb_96000040dfb6row15_col7\" class=\"data row15 col7\" >0.23</td>\n",
       "                        <td id=\"T_af4e1d8a_9444_11ee_bdbb_96000040dfb6row15_col8\" class=\"data row15 col8\" ></td>\n",
       "                        <td id=\"T_af4e1d8a_9444_11ee_bdbb_96000040dfb6row15_col9\" class=\"data row15 col9\" ></td>\n",
       "                        <td id=\"T_af4e1d8a_9444_11ee_bdbb_96000040dfb6row15_col10\" class=\"data row15 col10\" ></td>\n",
       "                        <td id=\"T_af4e1d8a_9444_11ee_bdbb_96000040dfb6row15_col11\" class=\"data row15 col11\" ></td>\n",
       "                        <td id=\"T_af4e1d8a_9444_11ee_bdbb_96000040dfb6row15_col12\" class=\"data row15 col12\" ></td>\n",
       "                        <td id=\"T_af4e1d8a_9444_11ee_bdbb_96000040dfb6row15_col13\" class=\"data row15 col13\" ></td>\n",
       "                        <td id=\"T_af4e1d8a_9444_11ee_bdbb_96000040dfb6row15_col14\" class=\"data row15 col14\" ></td>\n",
       "                        <td id=\"T_af4e1d8a_9444_11ee_bdbb_96000040dfb6row15_col15\" class=\"data row15 col15\" ></td>\n",
       "                        <td id=\"T_af4e1d8a_9444_11ee_bdbb_96000040dfb6row15_col16\" class=\"data row15 col16\" ></td>\n",
       "                        <td id=\"T_af4e1d8a_9444_11ee_bdbb_96000040dfb6row15_col17\" class=\"data row15 col17\" ></td>\n",
       "                        <td id=\"T_af4e1d8a_9444_11ee_bdbb_96000040dfb6row15_col18\" class=\"data row15 col18\" ></td>\n",
       "                        <td id=\"T_af4e1d8a_9444_11ee_bdbb_96000040dfb6row15_col19\" class=\"data row15 col19\" ></td>\n",
       "            </tr>\n",
       "            <tr>\n",
       "                        <th id=\"T_af4e1d8a_9444_11ee_bdbb_96000040dfb6level0_row16\" class=\"row_heading level0 row16\" >2018-02</th>\n",
       "                        <td id=\"T_af4e1d8a_9444_11ee_bdbb_96000040dfb6row16_col0\" class=\"data row16 col0\" >100.00</td>\n",
       "                        <td id=\"T_af4e1d8a_9444_11ee_bdbb_96000040dfb6row16_col1\" class=\"data row16 col1\" >0.36</td>\n",
       "                        <td id=\"T_af4e1d8a_9444_11ee_bdbb_96000040dfb6row16_col2\" class=\"data row16 col2\" >0.39</td>\n",
       "                        <td id=\"T_af4e1d8a_9444_11ee_bdbb_96000040dfb6row16_col3\" class=\"data row16 col3\" >0.30</td>\n",
       "                        <td id=\"T_af4e1d8a_9444_11ee_bdbb_96000040dfb6row16_col4\" class=\"data row16 col4\" >0.27</td>\n",
       "                        <td id=\"T_af4e1d8a_9444_11ee_bdbb_96000040dfb6row16_col5\" class=\"data row16 col5\" >0.22</td>\n",
       "                        <td id=\"T_af4e1d8a_9444_11ee_bdbb_96000040dfb6row16_col6\" class=\"data row16 col6\" >0.20</td>\n",
       "                        <td id=\"T_af4e1d8a_9444_11ee_bdbb_96000040dfb6row16_col7\" class=\"data row16 col7\" ></td>\n",
       "                        <td id=\"T_af4e1d8a_9444_11ee_bdbb_96000040dfb6row16_col8\" class=\"data row16 col8\" ></td>\n",
       "                        <td id=\"T_af4e1d8a_9444_11ee_bdbb_96000040dfb6row16_col9\" class=\"data row16 col9\" ></td>\n",
       "                        <td id=\"T_af4e1d8a_9444_11ee_bdbb_96000040dfb6row16_col10\" class=\"data row16 col10\" ></td>\n",
       "                        <td id=\"T_af4e1d8a_9444_11ee_bdbb_96000040dfb6row16_col11\" class=\"data row16 col11\" ></td>\n",
       "                        <td id=\"T_af4e1d8a_9444_11ee_bdbb_96000040dfb6row16_col12\" class=\"data row16 col12\" ></td>\n",
       "                        <td id=\"T_af4e1d8a_9444_11ee_bdbb_96000040dfb6row16_col13\" class=\"data row16 col13\" ></td>\n",
       "                        <td id=\"T_af4e1d8a_9444_11ee_bdbb_96000040dfb6row16_col14\" class=\"data row16 col14\" ></td>\n",
       "                        <td id=\"T_af4e1d8a_9444_11ee_bdbb_96000040dfb6row16_col15\" class=\"data row16 col15\" ></td>\n",
       "                        <td id=\"T_af4e1d8a_9444_11ee_bdbb_96000040dfb6row16_col16\" class=\"data row16 col16\" ></td>\n",
       "                        <td id=\"T_af4e1d8a_9444_11ee_bdbb_96000040dfb6row16_col17\" class=\"data row16 col17\" ></td>\n",
       "                        <td id=\"T_af4e1d8a_9444_11ee_bdbb_96000040dfb6row16_col18\" class=\"data row16 col18\" ></td>\n",
       "                        <td id=\"T_af4e1d8a_9444_11ee_bdbb_96000040dfb6row16_col19\" class=\"data row16 col19\" ></td>\n",
       "            </tr>\n",
       "            <tr>\n",
       "                        <th id=\"T_af4e1d8a_9444_11ee_bdbb_96000040dfb6level0_row17\" class=\"row_heading level0 row17\" >2018-03</th>\n",
       "                        <td id=\"T_af4e1d8a_9444_11ee_bdbb_96000040dfb6row17_col0\" class=\"data row17 col0\" >100.00</td>\n",
       "                        <td id=\"T_af4e1d8a_9444_11ee_bdbb_96000040dfb6row17_col1\" class=\"data row17 col1\" >0.40</td>\n",
       "                        <td id=\"T_af4e1d8a_9444_11ee_bdbb_96000040dfb6row17_col2\" class=\"data row17 col2\" >0.30</td>\n",
       "                        <td id=\"T_af4e1d8a_9444_11ee_bdbb_96000040dfb6row17_col3\" class=\"data row17 col3\" >0.29</td>\n",
       "                        <td id=\"T_af4e1d8a_9444_11ee_bdbb_96000040dfb6row17_col4\" class=\"data row17 col4\" >0.13</td>\n",
       "                        <td id=\"T_af4e1d8a_9444_11ee_bdbb_96000040dfb6row17_col5\" class=\"data row17 col5\" >0.12</td>\n",
       "                        <td id=\"T_af4e1d8a_9444_11ee_bdbb_96000040dfb6row17_col6\" class=\"data row17 col6\" ></td>\n",
       "                        <td id=\"T_af4e1d8a_9444_11ee_bdbb_96000040dfb6row17_col7\" class=\"data row17 col7\" ></td>\n",
       "                        <td id=\"T_af4e1d8a_9444_11ee_bdbb_96000040dfb6row17_col8\" class=\"data row17 col8\" ></td>\n",
       "                        <td id=\"T_af4e1d8a_9444_11ee_bdbb_96000040dfb6row17_col9\" class=\"data row17 col9\" ></td>\n",
       "                        <td id=\"T_af4e1d8a_9444_11ee_bdbb_96000040dfb6row17_col10\" class=\"data row17 col10\" ></td>\n",
       "                        <td id=\"T_af4e1d8a_9444_11ee_bdbb_96000040dfb6row17_col11\" class=\"data row17 col11\" ></td>\n",
       "                        <td id=\"T_af4e1d8a_9444_11ee_bdbb_96000040dfb6row17_col12\" class=\"data row17 col12\" ></td>\n",
       "                        <td id=\"T_af4e1d8a_9444_11ee_bdbb_96000040dfb6row17_col13\" class=\"data row17 col13\" ></td>\n",
       "                        <td id=\"T_af4e1d8a_9444_11ee_bdbb_96000040dfb6row17_col14\" class=\"data row17 col14\" ></td>\n",
       "                        <td id=\"T_af4e1d8a_9444_11ee_bdbb_96000040dfb6row17_col15\" class=\"data row17 col15\" ></td>\n",
       "                        <td id=\"T_af4e1d8a_9444_11ee_bdbb_96000040dfb6row17_col16\" class=\"data row17 col16\" ></td>\n",
       "                        <td id=\"T_af4e1d8a_9444_11ee_bdbb_96000040dfb6row17_col17\" class=\"data row17 col17\" ></td>\n",
       "                        <td id=\"T_af4e1d8a_9444_11ee_bdbb_96000040dfb6row17_col18\" class=\"data row17 col18\" ></td>\n",
       "                        <td id=\"T_af4e1d8a_9444_11ee_bdbb_96000040dfb6row17_col19\" class=\"data row17 col19\" ></td>\n",
       "            </tr>\n",
       "            <tr>\n",
       "                        <th id=\"T_af4e1d8a_9444_11ee_bdbb_96000040dfb6level0_row18\" class=\"row_heading level0 row18\" >2018-04</th>\n",
       "                        <td id=\"T_af4e1d8a_9444_11ee_bdbb_96000040dfb6row18_col0\" class=\"data row18 col0\" >100.00</td>\n",
       "                        <td id=\"T_af4e1d8a_9444_11ee_bdbb_96000040dfb6row18_col1\" class=\"data row18 col1\" >0.58</td>\n",
       "                        <td id=\"T_af4e1d8a_9444_11ee_bdbb_96000040dfb6row18_col2\" class=\"data row18 col2\" >0.31</td>\n",
       "                        <td id=\"T_af4e1d8a_9444_11ee_bdbb_96000040dfb6row18_col3\" class=\"data row18 col3\" >0.24</td>\n",
       "                        <td id=\"T_af4e1d8a_9444_11ee_bdbb_96000040dfb6row18_col4\" class=\"data row18 col4\" >0.13</td>\n",
       "                        <td id=\"T_af4e1d8a_9444_11ee_bdbb_96000040dfb6row18_col5\" class=\"data row18 col5\" ></td>\n",
       "                        <td id=\"T_af4e1d8a_9444_11ee_bdbb_96000040dfb6row18_col6\" class=\"data row18 col6\" ></td>\n",
       "                        <td id=\"T_af4e1d8a_9444_11ee_bdbb_96000040dfb6row18_col7\" class=\"data row18 col7\" ></td>\n",
       "                        <td id=\"T_af4e1d8a_9444_11ee_bdbb_96000040dfb6row18_col8\" class=\"data row18 col8\" ></td>\n",
       "                        <td id=\"T_af4e1d8a_9444_11ee_bdbb_96000040dfb6row18_col9\" class=\"data row18 col9\" ></td>\n",
       "                        <td id=\"T_af4e1d8a_9444_11ee_bdbb_96000040dfb6row18_col10\" class=\"data row18 col10\" ></td>\n",
       "                        <td id=\"T_af4e1d8a_9444_11ee_bdbb_96000040dfb6row18_col11\" class=\"data row18 col11\" ></td>\n",
       "                        <td id=\"T_af4e1d8a_9444_11ee_bdbb_96000040dfb6row18_col12\" class=\"data row18 col12\" ></td>\n",
       "                        <td id=\"T_af4e1d8a_9444_11ee_bdbb_96000040dfb6row18_col13\" class=\"data row18 col13\" ></td>\n",
       "                        <td id=\"T_af4e1d8a_9444_11ee_bdbb_96000040dfb6row18_col14\" class=\"data row18 col14\" ></td>\n",
       "                        <td id=\"T_af4e1d8a_9444_11ee_bdbb_96000040dfb6row18_col15\" class=\"data row18 col15\" ></td>\n",
       "                        <td id=\"T_af4e1d8a_9444_11ee_bdbb_96000040dfb6row18_col16\" class=\"data row18 col16\" ></td>\n",
       "                        <td id=\"T_af4e1d8a_9444_11ee_bdbb_96000040dfb6row18_col17\" class=\"data row18 col17\" ></td>\n",
       "                        <td id=\"T_af4e1d8a_9444_11ee_bdbb_96000040dfb6row18_col18\" class=\"data row18 col18\" ></td>\n",
       "                        <td id=\"T_af4e1d8a_9444_11ee_bdbb_96000040dfb6row18_col19\" class=\"data row18 col19\" ></td>\n",
       "            </tr>\n",
       "            <tr>\n",
       "                        <th id=\"T_af4e1d8a_9444_11ee_bdbb_96000040dfb6level0_row19\" class=\"row_heading level0 row19\" >2018-05</th>\n",
       "                        <td id=\"T_af4e1d8a_9444_11ee_bdbb_96000040dfb6row19_col0\" class=\"data row19 col0\" >100.00</td>\n",
       "                        <td id=\"T_af4e1d8a_9444_11ee_bdbb_96000040dfb6row19_col1\" class=\"data row19 col1\" >0.52</td>\n",
       "                        <td id=\"T_af4e1d8a_9444_11ee_bdbb_96000040dfb6row19_col2\" class=\"data row19 col2\" >0.26</td>\n",
       "                        <td id=\"T_af4e1d8a_9444_11ee_bdbb_96000040dfb6row19_col3\" class=\"data row19 col3\" >0.20</td>\n",
       "                        <td id=\"T_af4e1d8a_9444_11ee_bdbb_96000040dfb6row19_col4\" class=\"data row19 col4\" ></td>\n",
       "                        <td id=\"T_af4e1d8a_9444_11ee_bdbb_96000040dfb6row19_col5\" class=\"data row19 col5\" ></td>\n",
       "                        <td id=\"T_af4e1d8a_9444_11ee_bdbb_96000040dfb6row19_col6\" class=\"data row19 col6\" ></td>\n",
       "                        <td id=\"T_af4e1d8a_9444_11ee_bdbb_96000040dfb6row19_col7\" class=\"data row19 col7\" ></td>\n",
       "                        <td id=\"T_af4e1d8a_9444_11ee_bdbb_96000040dfb6row19_col8\" class=\"data row19 col8\" ></td>\n",
       "                        <td id=\"T_af4e1d8a_9444_11ee_bdbb_96000040dfb6row19_col9\" class=\"data row19 col9\" ></td>\n",
       "                        <td id=\"T_af4e1d8a_9444_11ee_bdbb_96000040dfb6row19_col10\" class=\"data row19 col10\" ></td>\n",
       "                        <td id=\"T_af4e1d8a_9444_11ee_bdbb_96000040dfb6row19_col11\" class=\"data row19 col11\" ></td>\n",
       "                        <td id=\"T_af4e1d8a_9444_11ee_bdbb_96000040dfb6row19_col12\" class=\"data row19 col12\" ></td>\n",
       "                        <td id=\"T_af4e1d8a_9444_11ee_bdbb_96000040dfb6row19_col13\" class=\"data row19 col13\" ></td>\n",
       "                        <td id=\"T_af4e1d8a_9444_11ee_bdbb_96000040dfb6row19_col14\" class=\"data row19 col14\" ></td>\n",
       "                        <td id=\"T_af4e1d8a_9444_11ee_bdbb_96000040dfb6row19_col15\" class=\"data row19 col15\" ></td>\n",
       "                        <td id=\"T_af4e1d8a_9444_11ee_bdbb_96000040dfb6row19_col16\" class=\"data row19 col16\" ></td>\n",
       "                        <td id=\"T_af4e1d8a_9444_11ee_bdbb_96000040dfb6row19_col17\" class=\"data row19 col17\" ></td>\n",
       "                        <td id=\"T_af4e1d8a_9444_11ee_bdbb_96000040dfb6row19_col18\" class=\"data row19 col18\" ></td>\n",
       "                        <td id=\"T_af4e1d8a_9444_11ee_bdbb_96000040dfb6row19_col19\" class=\"data row19 col19\" ></td>\n",
       "            </tr>\n",
       "            <tr>\n",
       "                        <th id=\"T_af4e1d8a_9444_11ee_bdbb_96000040dfb6level0_row20\" class=\"row_heading level0 row20\" >2018-06</th>\n",
       "                        <td id=\"T_af4e1d8a_9444_11ee_bdbb_96000040dfb6row20_col0\" class=\"data row20 col0\" >100.00</td>\n",
       "                        <td id=\"T_af4e1d8a_9444_11ee_bdbb_96000040dfb6row20_col1\" class=\"data row20 col1\" >0.42</td>\n",
       "                        <td id=\"T_af4e1d8a_9444_11ee_bdbb_96000040dfb6row20_col2\" class=\"data row20 col2\" >0.27</td>\n",
       "                        <td id=\"T_af4e1d8a_9444_11ee_bdbb_96000040dfb6row20_col3\" class=\"data row20 col3\" ></td>\n",
       "                        <td id=\"T_af4e1d8a_9444_11ee_bdbb_96000040dfb6row20_col4\" class=\"data row20 col4\" ></td>\n",
       "                        <td id=\"T_af4e1d8a_9444_11ee_bdbb_96000040dfb6row20_col5\" class=\"data row20 col5\" ></td>\n",
       "                        <td id=\"T_af4e1d8a_9444_11ee_bdbb_96000040dfb6row20_col6\" class=\"data row20 col6\" ></td>\n",
       "                        <td id=\"T_af4e1d8a_9444_11ee_bdbb_96000040dfb6row20_col7\" class=\"data row20 col7\" ></td>\n",
       "                        <td id=\"T_af4e1d8a_9444_11ee_bdbb_96000040dfb6row20_col8\" class=\"data row20 col8\" ></td>\n",
       "                        <td id=\"T_af4e1d8a_9444_11ee_bdbb_96000040dfb6row20_col9\" class=\"data row20 col9\" ></td>\n",
       "                        <td id=\"T_af4e1d8a_9444_11ee_bdbb_96000040dfb6row20_col10\" class=\"data row20 col10\" ></td>\n",
       "                        <td id=\"T_af4e1d8a_9444_11ee_bdbb_96000040dfb6row20_col11\" class=\"data row20 col11\" ></td>\n",
       "                        <td id=\"T_af4e1d8a_9444_11ee_bdbb_96000040dfb6row20_col12\" class=\"data row20 col12\" ></td>\n",
       "                        <td id=\"T_af4e1d8a_9444_11ee_bdbb_96000040dfb6row20_col13\" class=\"data row20 col13\" ></td>\n",
       "                        <td id=\"T_af4e1d8a_9444_11ee_bdbb_96000040dfb6row20_col14\" class=\"data row20 col14\" ></td>\n",
       "                        <td id=\"T_af4e1d8a_9444_11ee_bdbb_96000040dfb6row20_col15\" class=\"data row20 col15\" ></td>\n",
       "                        <td id=\"T_af4e1d8a_9444_11ee_bdbb_96000040dfb6row20_col16\" class=\"data row20 col16\" ></td>\n",
       "                        <td id=\"T_af4e1d8a_9444_11ee_bdbb_96000040dfb6row20_col17\" class=\"data row20 col17\" ></td>\n",
       "                        <td id=\"T_af4e1d8a_9444_11ee_bdbb_96000040dfb6row20_col18\" class=\"data row20 col18\" ></td>\n",
       "                        <td id=\"T_af4e1d8a_9444_11ee_bdbb_96000040dfb6row20_col19\" class=\"data row20 col19\" ></td>\n",
       "            </tr>\n",
       "            <tr>\n",
       "                        <th id=\"T_af4e1d8a_9444_11ee_bdbb_96000040dfb6level0_row21\" class=\"row_heading level0 row21\" >2018-07</th>\n",
       "                        <td id=\"T_af4e1d8a_9444_11ee_bdbb_96000040dfb6row21_col0\" class=\"data row21 col0\" >100.00</td>\n",
       "                        <td id=\"T_af4e1d8a_9444_11ee_bdbb_96000040dfb6row21_col1\" class=\"data row21 col1\" >0.52</td>\n",
       "                        <td id=\"T_af4e1d8a_9444_11ee_bdbb_96000040dfb6row21_col2\" class=\"data row21 col2\" ></td>\n",
       "                        <td id=\"T_af4e1d8a_9444_11ee_bdbb_96000040dfb6row21_col3\" class=\"data row21 col3\" ></td>\n",
       "                        <td id=\"T_af4e1d8a_9444_11ee_bdbb_96000040dfb6row21_col4\" class=\"data row21 col4\" ></td>\n",
       "                        <td id=\"T_af4e1d8a_9444_11ee_bdbb_96000040dfb6row21_col5\" class=\"data row21 col5\" ></td>\n",
       "                        <td id=\"T_af4e1d8a_9444_11ee_bdbb_96000040dfb6row21_col6\" class=\"data row21 col6\" ></td>\n",
       "                        <td id=\"T_af4e1d8a_9444_11ee_bdbb_96000040dfb6row21_col7\" class=\"data row21 col7\" ></td>\n",
       "                        <td id=\"T_af4e1d8a_9444_11ee_bdbb_96000040dfb6row21_col8\" class=\"data row21 col8\" ></td>\n",
       "                        <td id=\"T_af4e1d8a_9444_11ee_bdbb_96000040dfb6row21_col9\" class=\"data row21 col9\" ></td>\n",
       "                        <td id=\"T_af4e1d8a_9444_11ee_bdbb_96000040dfb6row21_col10\" class=\"data row21 col10\" ></td>\n",
       "                        <td id=\"T_af4e1d8a_9444_11ee_bdbb_96000040dfb6row21_col11\" class=\"data row21 col11\" ></td>\n",
       "                        <td id=\"T_af4e1d8a_9444_11ee_bdbb_96000040dfb6row21_col12\" class=\"data row21 col12\" ></td>\n",
       "                        <td id=\"T_af4e1d8a_9444_11ee_bdbb_96000040dfb6row21_col13\" class=\"data row21 col13\" ></td>\n",
       "                        <td id=\"T_af4e1d8a_9444_11ee_bdbb_96000040dfb6row21_col14\" class=\"data row21 col14\" ></td>\n",
       "                        <td id=\"T_af4e1d8a_9444_11ee_bdbb_96000040dfb6row21_col15\" class=\"data row21 col15\" ></td>\n",
       "                        <td id=\"T_af4e1d8a_9444_11ee_bdbb_96000040dfb6row21_col16\" class=\"data row21 col16\" ></td>\n",
       "                        <td id=\"T_af4e1d8a_9444_11ee_bdbb_96000040dfb6row21_col17\" class=\"data row21 col17\" ></td>\n",
       "                        <td id=\"T_af4e1d8a_9444_11ee_bdbb_96000040dfb6row21_col18\" class=\"data row21 col18\" ></td>\n",
       "                        <td id=\"T_af4e1d8a_9444_11ee_bdbb_96000040dfb6row21_col19\" class=\"data row21 col19\" ></td>\n",
       "            </tr>\n",
       "            <tr>\n",
       "                        <th id=\"T_af4e1d8a_9444_11ee_bdbb_96000040dfb6level0_row22\" class=\"row_heading level0 row22\" >2018-08</th>\n",
       "                        <td id=\"T_af4e1d8a_9444_11ee_bdbb_96000040dfb6row22_col0\" class=\"data row22 col0\" >100.00</td>\n",
       "                        <td id=\"T_af4e1d8a_9444_11ee_bdbb_96000040dfb6row22_col1\" class=\"data row22 col1\" >0.02</td>\n",
       "                        <td id=\"T_af4e1d8a_9444_11ee_bdbb_96000040dfb6row22_col2\" class=\"data row22 col2\" ></td>\n",
       "                        <td id=\"T_af4e1d8a_9444_11ee_bdbb_96000040dfb6row22_col3\" class=\"data row22 col3\" ></td>\n",
       "                        <td id=\"T_af4e1d8a_9444_11ee_bdbb_96000040dfb6row22_col4\" class=\"data row22 col4\" ></td>\n",
       "                        <td id=\"T_af4e1d8a_9444_11ee_bdbb_96000040dfb6row22_col5\" class=\"data row22 col5\" ></td>\n",
       "                        <td id=\"T_af4e1d8a_9444_11ee_bdbb_96000040dfb6row22_col6\" class=\"data row22 col6\" ></td>\n",
       "                        <td id=\"T_af4e1d8a_9444_11ee_bdbb_96000040dfb6row22_col7\" class=\"data row22 col7\" ></td>\n",
       "                        <td id=\"T_af4e1d8a_9444_11ee_bdbb_96000040dfb6row22_col8\" class=\"data row22 col8\" ></td>\n",
       "                        <td id=\"T_af4e1d8a_9444_11ee_bdbb_96000040dfb6row22_col9\" class=\"data row22 col9\" ></td>\n",
       "                        <td id=\"T_af4e1d8a_9444_11ee_bdbb_96000040dfb6row22_col10\" class=\"data row22 col10\" ></td>\n",
       "                        <td id=\"T_af4e1d8a_9444_11ee_bdbb_96000040dfb6row22_col11\" class=\"data row22 col11\" ></td>\n",
       "                        <td id=\"T_af4e1d8a_9444_11ee_bdbb_96000040dfb6row22_col12\" class=\"data row22 col12\" ></td>\n",
       "                        <td id=\"T_af4e1d8a_9444_11ee_bdbb_96000040dfb6row22_col13\" class=\"data row22 col13\" ></td>\n",
       "                        <td id=\"T_af4e1d8a_9444_11ee_bdbb_96000040dfb6row22_col14\" class=\"data row22 col14\" ></td>\n",
       "                        <td id=\"T_af4e1d8a_9444_11ee_bdbb_96000040dfb6row22_col15\" class=\"data row22 col15\" ></td>\n",
       "                        <td id=\"T_af4e1d8a_9444_11ee_bdbb_96000040dfb6row22_col16\" class=\"data row22 col16\" ></td>\n",
       "                        <td id=\"T_af4e1d8a_9444_11ee_bdbb_96000040dfb6row22_col17\" class=\"data row22 col17\" ></td>\n",
       "                        <td id=\"T_af4e1d8a_9444_11ee_bdbb_96000040dfb6row22_col18\" class=\"data row22 col18\" ></td>\n",
       "                        <td id=\"T_af4e1d8a_9444_11ee_bdbb_96000040dfb6row22_col19\" class=\"data row22 col19\" ></td>\n",
       "            </tr>\n",
       "    </tbody></table>"
      ],
      "text/plain": [
       "<pandas.io.formats.style.Styler at 0x7f3a30ba92e8>"
      ]
     },
     "execution_count": 45,
     "metadata": {},
     "output_type": "execute_result"
    }
   ],
   "source": [
    "# display the table\n",
    "step_5_task_cohorts_pivot \\\n",
    "    .style.set_caption('Analysis_of_cohorts') \\\n",
    "    .highlight_max(axis=0, color='orange') \\\n",
    "    .format(\"{:.2f}\", subset=step_5_task_cohorts_pivot.columns, na_rep=\"\")"
   ]
  },
  {
   "cell_type": "markdown",
   "metadata": {},
   "source": [
    "# Ответ: The maximum retention for 3 months was observed in the cohort of clients who made their first purchase in 2017-05 and amounted to 0.4%"
   ]
  },
  {
   "cell_type": "markdown",
   "metadata": {},
   "source": [
    "# Step 6. Build RFM user segmentation to qualitatively assess audience."
   ]
  },
  {
   "cell_type": "markdown",
   "metadata": {},
   "source": [
    "First we need to create a dataframe with the necessary metrics:\n",
    "    \n",
    "     - time from the user’s last purchase to the current date\n",
    "     - the total number of purchases from the user for the entire time\n",
    "     - total purchases for the entire time\n",
    "    \n",
    "Next, we will assign ranks for each buyer according to three metrics and find out the final rating, which we will give describtion"
   ]
  },
  {
   "cell_type": "code",
   "execution_count": 46,
   "metadata": {},
   "outputs": [],
   "source": [
    "# merge 2 dataframes\n",
    "items_orders = items.merge(orders, on='order_id')"
   ]
  },
  {
   "cell_type": "code",
   "execution_count": 47,
   "metadata": {},
   "outputs": [],
   "source": [
    "# merge with dataframe 3 by \"customer_id\"\n",
    "common_df = items_orders.merge(customers, on='customer_id')"
   ]
  },
  {
   "cell_type": "code",
   "execution_count": 48,
   "metadata": {},
   "outputs": [],
   "source": [
    "# Now let’s sort our main df so that the \"order_status\" does not have \"canceled\" and \"unavailable\", and there is also payment confirmation\n",
    "common_df = common_df.query('order_status not in [\"canceled\", \"unavailable\"] and order_approved_at.notna()')"
   ]
  },
  {
   "cell_type": "code",
   "execution_count": 49,
   "metadata": {},
   "outputs": [],
   "source": [
    "# select only the columns we need\n",
    "common_df = common_df[['customer_unique_id', 'order_purchase_timestamp', 'order_id', 'price']].copy()"
   ]
  },
  {
   "cell_type": "code",
   "execution_count": 50,
   "metadata": {},
   "outputs": [],
   "source": [
    "# convert the data type to datetime\n",
    "common_df['order_purchase_timestamp'] = pd.to_datetime(common_df['order_purchase_timestamp']).values.astype('datetime64[D]')"
   ]
  },
  {
   "cell_type": "markdown",
   "metadata": {},
   "source": [
    "As we remember, our date interval is about 2 years, and we need 365\n",
    "\n",
    "So we need to look at which continuous sales cycle of 365 days we had the most purchases"
   ]
  },
  {
   "cell_type": "code",
   "execution_count": 51,
   "metadata": {},
   "outputs": [
    {
     "data": {
      "text/plain": [
       "Timedelta('729 days 00:00:00')"
      ]
     },
     "execution_count": 51,
     "metadata": {},
     "output_type": "execute_result"
    }
   ],
   "source": [
    "(common_df.order_purchase_timestamp.max() - common_df.order_purchase_timestamp.min())"
   ]
  },
  {
   "cell_type": "code",
   "execution_count": 52,
   "metadata": {},
   "outputs": [
    {
     "data": {
      "text/plain": [
       "2016-09       5\n",
       "2016-10     342\n",
       "2016-12       1\n",
       "2017-01     951\n",
       "2017-02    1923\n",
       "2017-03    2975\n",
       "2017-04    2660\n",
       "2017-05    4106\n",
       "2017-06    3571\n",
       "2017-07    4493\n",
       "2017-08    4882\n",
       "2017-09    4815\n",
       "2017-10    5300\n",
       "2017-11    8626\n",
       "2017-12    6300\n",
       "2018-01    8173\n",
       "2018-02    7597\n",
       "2018-03    8195\n",
       "2018-04    7957\n",
       "2018-05    7898\n",
       "2018-06    7060\n",
       "2018-07    7039\n",
       "2018-08    7216\n",
       "2018-09       1\n",
       "Freq: M, Name: order_purchase_timestamp, dtype: int64"
      ]
     },
     "execution_count": 52,
     "metadata": {},
     "output_type": "execute_result"
    }
   ],
   "source": [
    "# highest number of purchases at the end of the observed period and ends 2018-08\n",
    "# from this month we must limit 365 days\n",
    "common_df['order_purchase_timestamp'].dt.to_period('M').value_counts().sort_index()"
   ]
  },
  {
   "cell_type": "code",
   "execution_count": 53,
   "metadata": {},
   "outputs": [],
   "source": [
    "# limit at the upper limit\n",
    "common_df = common_df[common_df['order_purchase_timestamp'].dt.strftime('%Y-%m') <= '2018-08']"
   ]
  },
  {
   "cell_type": "code",
   "execution_count": 54,
   "metadata": {},
   "outputs": [
    {
     "data": {
      "text/plain": [
       "Timestamp('2017-08-29 00:00:00')"
      ]
     },
     "execution_count": 54,
     "metadata": {},
     "output_type": "execute_result"
    }
   ],
   "source": [
    "# calculate the month for the lower limit\n",
    "common_df.order_purchase_timestamp.max() - timedelta(days=365)"
   ]
  },
  {
   "cell_type": "code",
   "execution_count": 55,
   "metadata": {},
   "outputs": [],
   "source": [
    "# limit the initial month, result in an interval of 365 days\n",
    "common_df = common_df[common_df['order_purchase_timestamp'].dt.strftime('%Y-%m-%d') > '2017-08-29']"
   ]
  },
  {
   "cell_type": "code",
   "execution_count": 56,
   "metadata": {},
   "outputs": [
    {
     "data": {
      "text/html": [
       "<div>\n",
       "<style scoped>\n",
       "    .dataframe tbody tr th:only-of-type {\n",
       "        vertical-align: middle;\n",
       "    }\n",
       "\n",
       "    .dataframe tbody tr th {\n",
       "        vertical-align: top;\n",
       "    }\n",
       "\n",
       "    .dataframe thead th {\n",
       "        text-align: right;\n",
       "    }\n",
       "</style>\n",
       "<table border=\"1\" class=\"dataframe\">\n",
       "  <thead>\n",
       "    <tr style=\"text-align: right;\">\n",
       "      <th></th>\n",
       "      <th>customer_unique_id</th>\n",
       "      <th>order_purchase_timestamp</th>\n",
       "      <th>order_id</th>\n",
       "      <th>price</th>\n",
       "    </tr>\n",
       "  </thead>\n",
       "  <tbody>\n",
       "    <tr>\n",
       "      <th>0</th>\n",
       "      <td>871766c5855e863f6eccc05f988b23cb</td>\n",
       "      <td>2017-09-13</td>\n",
       "      <td>00010242fe8c5a6d1ba2dd792cb16214</td>\n",
       "      <td>58.90</td>\n",
       "    </tr>\n",
       "    <tr>\n",
       "      <th>2</th>\n",
       "      <td>3818d81c6709e39d06b2738a8d3a2474</td>\n",
       "      <td>2018-01-14</td>\n",
       "      <td>000229ec398224ef6ca0657da4fc703e</td>\n",
       "      <td>199.00</td>\n",
       "    </tr>\n",
       "    <tr>\n",
       "      <th>3</th>\n",
       "      <td>af861d436cfc08b2c2ddefd0ba074622</td>\n",
       "      <td>2018-08-08</td>\n",
       "      <td>00024acbcdf0a6daa1e931b038114c75</td>\n",
       "      <td>12.99</td>\n",
       "    </tr>\n",
       "    <tr>\n",
       "      <th>6</th>\n",
       "      <td>635d9ac1680f03288e72ada3a1035803</td>\n",
       "      <td>2017-12-10</td>\n",
       "      <td>00054e8431b9d7675808bcb819fb4a32</td>\n",
       "      <td>19.90</td>\n",
       "    </tr>\n",
       "    <tr>\n",
       "      <th>7</th>\n",
       "      <td>fda4476abb6307ab3c415b7e6d026526</td>\n",
       "      <td>2018-07-04</td>\n",
       "      <td>000576fe39319847cbb9d288c5617fa6</td>\n",
       "      <td>810.00</td>\n",
       "    </tr>\n",
       "  </tbody>\n",
       "</table>\n",
       "</div>"
      ],
      "text/plain": [
       "                 customer_unique_id order_purchase_timestamp  \\\n",
       "0  871766c5855e863f6eccc05f988b23cb               2017-09-13   \n",
       "2  3818d81c6709e39d06b2738a8d3a2474               2018-01-14   \n",
       "3  af861d436cfc08b2c2ddefd0ba074622               2018-08-08   \n",
       "6  635d9ac1680f03288e72ada3a1035803               2017-12-10   \n",
       "7  fda4476abb6307ab3c415b7e6d026526               2018-07-04   \n",
       "\n",
       "                           order_id   price  \n",
       "0  00010242fe8c5a6d1ba2dd792cb16214   58.90  \n",
       "2  000229ec398224ef6ca0657da4fc703e  199.00  \n",
       "3  00024acbcdf0a6daa1e931b038114c75   12.99  \n",
       "6  00054e8431b9d7675808bcb819fb4a32   19.90  \n",
       "7  000576fe39319847cbb9d288c5617fa6  810.00  "
      ]
     },
     "execution_count": 56,
     "metadata": {},
     "output_type": "execute_result"
    }
   ],
   "source": [
    "common_df.head()"
   ]
  },
  {
   "cell_type": "code",
   "execution_count": 57,
   "metadata": {},
   "outputs": [],
   "source": [
    "# find out the purchase amount for each unique client, but at the same time retain the main columns\n",
    "grouped_common_df = common_df \\\n",
    "    .groupby(['order_id', 'order_purchase_timestamp', 'customer_unique_id'], as_index=False) \\\n",
    "    .agg({'price':'sum'})"
   ]
  },
  {
   "cell_type": "code",
   "execution_count": 58,
   "metadata": {},
   "outputs": [
    {
     "data": {
      "text/html": [
       "<div>\n",
       "<style scoped>\n",
       "    .dataframe tbody tr th:only-of-type {\n",
       "        vertical-align: middle;\n",
       "    }\n",
       "\n",
       "    .dataframe tbody tr th {\n",
       "        vertical-align: top;\n",
       "    }\n",
       "\n",
       "    .dataframe thead th {\n",
       "        text-align: right;\n",
       "    }\n",
       "</style>\n",
       "<table border=\"1\" class=\"dataframe\">\n",
       "  <thead>\n",
       "    <tr style=\"text-align: right;\">\n",
       "      <th></th>\n",
       "      <th>order_id</th>\n",
       "      <th>order_purchase_timestamp</th>\n",
       "      <th>customer_unique_id</th>\n",
       "      <th>price</th>\n",
       "    </tr>\n",
       "  </thead>\n",
       "  <tbody>\n",
       "    <tr>\n",
       "      <th>0</th>\n",
       "      <td>00010242fe8c5a6d1ba2dd792cb16214</td>\n",
       "      <td>2017-09-13</td>\n",
       "      <td>871766c5855e863f6eccc05f988b23cb</td>\n",
       "      <td>58.9</td>\n",
       "    </tr>\n",
       "    <tr>\n",
       "      <th>1</th>\n",
       "      <td>000229ec398224ef6ca0657da4fc703e</td>\n",
       "      <td>2018-01-14</td>\n",
       "      <td>3818d81c6709e39d06b2738a8d3a2474</td>\n",
       "      <td>199.0</td>\n",
       "    </tr>\n",
       "  </tbody>\n",
       "</table>\n",
       "</div>"
      ],
      "text/plain": [
       "                           order_id order_purchase_timestamp  \\\n",
       "0  00010242fe8c5a6d1ba2dd792cb16214               2017-09-13   \n",
       "1  000229ec398224ef6ca0657da4fc703e               2018-01-14   \n",
       "\n",
       "                 customer_unique_id  price  \n",
       "0  871766c5855e863f6eccc05f988b23cb   58.9  \n",
       "1  3818d81c6709e39d06b2738a8d3a2474  199.0  "
      ]
     },
     "execution_count": 58,
     "metadata": {},
     "output_type": "execute_result"
    }
   ],
   "source": [
    "grouped_common_df.head(2)"
   ]
  },
  {
   "cell_type": "code",
   "execution_count": 59,
   "metadata": {},
   "outputs": [
    {
     "data": {
      "text/plain": [
       "Timestamp('2018-08-30 00:00:00')"
      ]
     },
     "execution_count": 59,
     "metadata": {},
     "output_type": "execute_result"
    }
   ],
   "source": [
    "# To calculate the time since the first purchase, will take the figurative date of uploading the report on the next day\n",
    "date_of_report = common_df.order_purchase_timestamp.max() + timedelta(days=1)\n",
    "date_of_report"
   ]
  },
  {
   "cell_type": "code",
   "execution_count": 60,
   "metadata": {},
   "outputs": [],
   "source": [
    "# add a column \"days_after_buy\"\n",
    "grouped_common_df['days_after_buy'] = date_of_report - grouped_common_df.order_purchase_timestamp"
   ]
  },
  {
   "cell_type": "code",
   "execution_count": 61,
   "metadata": {},
   "outputs": [
    {
     "data": {
      "text/html": [
       "<div>\n",
       "<style scoped>\n",
       "    .dataframe tbody tr th:only-of-type {\n",
       "        vertical-align: middle;\n",
       "    }\n",
       "\n",
       "    .dataframe tbody tr th {\n",
       "        vertical-align: top;\n",
       "    }\n",
       "\n",
       "    .dataframe thead th {\n",
       "        text-align: right;\n",
       "    }\n",
       "</style>\n",
       "<table border=\"1\" class=\"dataframe\">\n",
       "  <thead>\n",
       "    <tr style=\"text-align: right;\">\n",
       "      <th></th>\n",
       "      <th>order_id</th>\n",
       "      <th>order_purchase_timestamp</th>\n",
       "      <th>customer_unique_id</th>\n",
       "      <th>price</th>\n",
       "      <th>days_after_buy</th>\n",
       "    </tr>\n",
       "  </thead>\n",
       "  <tbody>\n",
       "    <tr>\n",
       "      <th>0</th>\n",
       "      <td>00010242fe8c5a6d1ba2dd792cb16214</td>\n",
       "      <td>2017-09-13</td>\n",
       "      <td>871766c5855e863f6eccc05f988b23cb</td>\n",
       "      <td>58.9</td>\n",
       "      <td>351 days</td>\n",
       "    </tr>\n",
       "    <tr>\n",
       "      <th>1</th>\n",
       "      <td>000229ec398224ef6ca0657da4fc703e</td>\n",
       "      <td>2018-01-14</td>\n",
       "      <td>3818d81c6709e39d06b2738a8d3a2474</td>\n",
       "      <td>199.0</td>\n",
       "      <td>228 days</td>\n",
       "    </tr>\n",
       "  </tbody>\n",
       "</table>\n",
       "</div>"
      ],
      "text/plain": [
       "                           order_id order_purchase_timestamp  \\\n",
       "0  00010242fe8c5a6d1ba2dd792cb16214               2017-09-13   \n",
       "1  000229ec398224ef6ca0657da4fc703e               2018-01-14   \n",
       "\n",
       "                 customer_unique_id  price days_after_buy  \n",
       "0  871766c5855e863f6eccc05f988b23cb   58.9       351 days  \n",
       "1  3818d81c6709e39d06b2738a8d3a2474  199.0       228 days  "
      ]
     },
     "execution_count": 61,
     "metadata": {},
     "output_type": "execute_result"
    }
   ],
   "source": [
    "grouped_common_df.head(2)"
   ]
  },
  {
   "cell_type": "code",
   "execution_count": 62,
   "metadata": {},
   "outputs": [],
   "source": [
    "# will find the minimum number of days between the purchase and the day of unloading, \n",
    "# the amount of purchases and the amount of orders\n",
    "common_rfm = grouped_common_df \\\n",
    "    .groupby(['customer_unique_id'], as_index=False) \\\n",
    "    .agg({'days_after_buy':'min', 'order_purchase_timestamp':'count', 'price':'sum'}) \\\n",
    "    .rename(columns={'days_after_buy':'recency', 'order_purchase_timestamp':'frequency', 'price':'monetary'}) \\\n",
    "    .sort_values('monetary', ascending=False)\n",
    "    "
   ]
  },
  {
   "cell_type": "code",
   "execution_count": 63,
   "metadata": {},
   "outputs": [],
   "source": [
    "# convert recency to int64 data type\n",
    "common_rfm['recency'] = common_rfm['recency'].dt.days"
   ]
  },
  {
   "cell_type": "code",
   "execution_count": 64,
   "metadata": {
    "scrolled": true
   },
   "outputs": [
    {
     "data": {
      "text/html": [
       "<div>\n",
       "<style scoped>\n",
       "    .dataframe tbody tr th:only-of-type {\n",
       "        vertical-align: middle;\n",
       "    }\n",
       "\n",
       "    .dataframe tbody tr th {\n",
       "        vertical-align: top;\n",
       "    }\n",
       "\n",
       "    .dataframe thead th {\n",
       "        text-align: right;\n",
       "    }\n",
       "</style>\n",
       "<table border=\"1\" class=\"dataframe\">\n",
       "  <thead>\n",
       "    <tr style=\"text-align: right;\">\n",
       "      <th></th>\n",
       "      <th>customer_unique_id</th>\n",
       "      <th>recency</th>\n",
       "      <th>frequency</th>\n",
       "      <th>monetary</th>\n",
       "    </tr>\n",
       "  </thead>\n",
       "  <tbody>\n",
       "    <tr>\n",
       "      <th>2858</th>\n",
       "      <td>0a0a92112bd4c708ca5fde585afaa872</td>\n",
       "      <td>335</td>\n",
       "      <td>1</td>\n",
       "      <td>13440.0</td>\n",
       "    </tr>\n",
       "    <tr>\n",
       "      <th>33985</th>\n",
       "      <td>763c8b1c9c68a0229c42c9fc6f662b93</td>\n",
       "      <td>46</td>\n",
       "      <td>1</td>\n",
       "      <td>7160.0</td>\n",
       "    </tr>\n",
       "    <tr>\n",
       "      <th>20009</th>\n",
       "      <td>459bef486812aa25204be022145caa62</td>\n",
       "      <td>36</td>\n",
       "      <td>1</td>\n",
       "      <td>6729.0</td>\n",
       "    </tr>\n",
       "    <tr>\n",
       "      <th>18438</th>\n",
       "      <td>4007669dec559734d6f53e029e360987</td>\n",
       "      <td>279</td>\n",
       "      <td>1</td>\n",
       "      <td>5934.6</td>\n",
       "    </tr>\n",
       "    <tr>\n",
       "      <th>20953</th>\n",
       "      <td>48e1ac109decbb87765a3eade6854098</td>\n",
       "      <td>69</td>\n",
       "      <td>1</td>\n",
       "      <td>4590.0</td>\n",
       "    </tr>\n",
       "  </tbody>\n",
       "</table>\n",
       "</div>"
      ],
      "text/plain": [
       "                     customer_unique_id  recency  frequency  monetary\n",
       "2858   0a0a92112bd4c708ca5fde585afaa872      335          1   13440.0\n",
       "33985  763c8b1c9c68a0229c42c9fc6f662b93       46          1    7160.0\n",
       "20009  459bef486812aa25204be022145caa62       36          1    6729.0\n",
       "18438  4007669dec559734d6f53e029e360987      279          1    5934.6\n",
       "20953  48e1ac109decbb87765a3eade6854098       69          1    4590.0"
      ]
     },
     "execution_count": 64,
     "metadata": {},
     "output_type": "execute_result"
    }
   ],
   "source": [
    "common_rfm.head()"
   ]
  },
  {
   "cell_type": "markdown",
   "metadata": {},
   "source": [
    "Now we will assign ranks to each buyer and calculate the boundaries of the metrics using quantile.\n",
    "\n",
    "Using quintiles is more flexible because the ranges will adapt to the data"
   ]
  },
  {
   "cell_type": "code",
   "execution_count": 65,
   "metadata": {
    "scrolled": true
   },
   "outputs": [
    {
     "data": {
      "text/plain": [
       "{'recency': {0.3: 110.0, 0.6: 205.0},\n",
       " 'frequency': {0.3: 1.0, 0.6: 1.0},\n",
       " 'monetary': {0.3: 53.9, 0.6: 109.99}}"
      ]
     },
     "execution_count": 65,
     "metadata": {},
     "output_type": "execute_result"
    }
   ],
   "source": [
    "# display the quantiles of three columns\n",
    "# quantiles of the frequency metric are all equal to 1, since the overwhelming number of customers made only 1 purchase\n",
    "# The quantile will be insensitive, so we will classify all customers who made only 1 purchase as rank 1\n",
    "quantiles = common_rfm[['recency', 'frequency', 'monetary']].quantile([.3, .6]).to_dict()\n",
    "quantiles"
   ]
  },
  {
   "cell_type": "code",
   "execution_count": 66,
   "metadata": {},
   "outputs": [
    {
     "data": {
      "text/plain": [
       "1     71784\n",
       "2      1728\n",
       "3        98\n",
       "4        17\n",
       "5         5\n",
       "7         3\n",
       "11        1\n",
       "9         1\n",
       "Name: frequency, dtype: int64"
      ]
     },
     "execution_count": 66,
     "metadata": {},
     "output_type": "execute_result"
    }
   ],
   "source": [
    "# see fatal differences in the number of purchases for customers\n",
    "common_rfm.frequency.value_counts()"
   ]
  },
  {
   "cell_type": "code",
   "execution_count": 67,
   "metadata": {},
   "outputs": [],
   "source": [
    "def r_score(x):                         \n",
    "    if x <= quantiles['recency'][.3]:\n",
    "        return 3\n",
    "    elif x <= quantiles['recency'][.6]:\n",
    "        return 2\n",
    "    else:\n",
    "        return 1\n",
    "# here, the higher the rank, the less time has passed since the last purchase until unloading\n",
    "\n",
    "\n",
    "def f_score(x):                                         \n",
    "    if x <= 1:                  \n",
    "        return 1\n",
    "    elif x <= 3:                  \n",
    "        return 2\n",
    "    else:                         \n",
    "        return 3 \n",
    "# here, the more purchases a client makes, the higher his rank, rank 1 for those clients who made only 1 purchase\n",
    "    \n",
    "    \n",
    "def m_score(x):                         \n",
    "    if x <= quantiles['monetary'][.3]:\n",
    "        return 1\n",
    "    elif x <= quantiles['monetary'][.6]:\n",
    "        return 2\n",
    "    else:\n",
    "        return 3 \n",
    "# here the buyer’s rank is higher, the larger the amount of purchases he made\n",
    "\n"
   ]
  },
  {
   "cell_type": "code",
   "execution_count": 68,
   "metadata": {},
   "outputs": [],
   "source": [
    "# create new columns with corresponding rank values\n",
    "common_rfm['R'] = common_rfm['recency'].apply(lambda x: r_score(x))\n",
    "common_rfm['F'] = common_rfm['frequency'].apply(lambda x: f_score(x))\n",
    "common_rfm['M'] = common_rfm['monetary'].apply(lambda x: m_score(x))"
   ]
  },
  {
   "cell_type": "code",
   "execution_count": 69,
   "metadata": {},
   "outputs": [],
   "source": [
    "# calculate FRM values for each buyer\n",
    "common_rfm['rfm_score'] = common_rfm['R'].astype(str) + common_rfm['F'].astype(str) + common_rfm['M'].astype(str)"
   ]
  },
  {
   "cell_type": "code",
   "execution_count": 70,
   "metadata": {
    "scrolled": false
   },
   "outputs": [
    {
     "data": {
      "text/html": [
       "<div>\n",
       "<style scoped>\n",
       "    .dataframe tbody tr th:only-of-type {\n",
       "        vertical-align: middle;\n",
       "    }\n",
       "\n",
       "    .dataframe tbody tr th {\n",
       "        vertical-align: top;\n",
       "    }\n",
       "\n",
       "    .dataframe thead th {\n",
       "        text-align: right;\n",
       "    }\n",
       "</style>\n",
       "<table border=\"1\" class=\"dataframe\">\n",
       "  <thead>\n",
       "    <tr style=\"text-align: right;\">\n",
       "      <th></th>\n",
       "      <th>customer_unique_id</th>\n",
       "      <th>recency</th>\n",
       "      <th>frequency</th>\n",
       "      <th>monetary</th>\n",
       "      <th>R</th>\n",
       "      <th>F</th>\n",
       "      <th>M</th>\n",
       "      <th>rfm_score</th>\n",
       "    </tr>\n",
       "  </thead>\n",
       "  <tbody>\n",
       "    <tr>\n",
       "      <th>2858</th>\n",
       "      <td>0a0a92112bd4c708ca5fde585afaa872</td>\n",
       "      <td>335</td>\n",
       "      <td>1</td>\n",
       "      <td>13440.00</td>\n",
       "      <td>1</td>\n",
       "      <td>1</td>\n",
       "      <td>3</td>\n",
       "      <td>113</td>\n",
       "    </tr>\n",
       "    <tr>\n",
       "      <th>33985</th>\n",
       "      <td>763c8b1c9c68a0229c42c9fc6f662b93</td>\n",
       "      <td>46</td>\n",
       "      <td>1</td>\n",
       "      <td>7160.00</td>\n",
       "      <td>3</td>\n",
       "      <td>1</td>\n",
       "      <td>3</td>\n",
       "      <td>313</td>\n",
       "    </tr>\n",
       "    <tr>\n",
       "      <th>20009</th>\n",
       "      <td>459bef486812aa25204be022145caa62</td>\n",
       "      <td>36</td>\n",
       "      <td>1</td>\n",
       "      <td>6729.00</td>\n",
       "      <td>3</td>\n",
       "      <td>1</td>\n",
       "      <td>3</td>\n",
       "      <td>313</td>\n",
       "    </tr>\n",
       "    <tr>\n",
       "      <th>18438</th>\n",
       "      <td>4007669dec559734d6f53e029e360987</td>\n",
       "      <td>279</td>\n",
       "      <td>1</td>\n",
       "      <td>5934.60</td>\n",
       "      <td>1</td>\n",
       "      <td>1</td>\n",
       "      <td>3</td>\n",
       "      <td>113</td>\n",
       "    </tr>\n",
       "    <tr>\n",
       "      <th>20953</th>\n",
       "      <td>48e1ac109decbb87765a3eade6854098</td>\n",
       "      <td>69</td>\n",
       "      <td>1</td>\n",
       "      <td>4590.00</td>\n",
       "      <td>3</td>\n",
       "      <td>1</td>\n",
       "      <td>3</td>\n",
       "      <td>313</td>\n",
       "    </tr>\n",
       "    <tr>\n",
       "      <th>...</th>\n",
       "      <td>...</td>\n",
       "      <td>...</td>\n",
       "      <td>...</td>\n",
       "      <td>...</td>\n",
       "      <td>...</td>\n",
       "      <td>...</td>\n",
       "      <td>...</td>\n",
       "      <td>...</td>\n",
       "    </tr>\n",
       "    <tr>\n",
       "      <th>59680</th>\n",
       "      <td>cf3839da0d9492ad151690b65f45d800</td>\n",
       "      <td>209</td>\n",
       "      <td>1</td>\n",
       "      <td>2.99</td>\n",
       "      <td>1</td>\n",
       "      <td>1</td>\n",
       "      <td>1</td>\n",
       "      <td>111</td>\n",
       "    </tr>\n",
       "    <tr>\n",
       "      <th>54473</th>\n",
       "      <td>bd06ce0e06ad77a7f681f1a4960a3cc6</td>\n",
       "      <td>351</td>\n",
       "      <td>1</td>\n",
       "      <td>2.29</td>\n",
       "      <td>1</td>\n",
       "      <td>1</td>\n",
       "      <td>1</td>\n",
       "      <td>111</td>\n",
       "    </tr>\n",
       "    <tr>\n",
       "      <th>14242</th>\n",
       "      <td>317cfc692e3f86c45c95697c61c853a6</td>\n",
       "      <td>5</td>\n",
       "      <td>1</td>\n",
       "      <td>2.20</td>\n",
       "      <td>3</td>\n",
       "      <td>1</td>\n",
       "      <td>1</td>\n",
       "      <td>311</td>\n",
       "    </tr>\n",
       "    <tr>\n",
       "      <th>51756</th>\n",
       "      <td>b38211bd797f4fdd81a98b9d1754b606</td>\n",
       "      <td>128</td>\n",
       "      <td>1</td>\n",
       "      <td>0.85</td>\n",
       "      <td>2</td>\n",
       "      <td>1</td>\n",
       "      <td>1</td>\n",
       "      <td>211</td>\n",
       "    </tr>\n",
       "    <tr>\n",
       "      <th>62230</th>\n",
       "      <td>d80730c15c647bc8f2ad77c908ba5ca9</td>\n",
       "      <td>128</td>\n",
       "      <td>1</td>\n",
       "      <td>0.85</td>\n",
       "      <td>2</td>\n",
       "      <td>1</td>\n",
       "      <td>1</td>\n",
       "      <td>211</td>\n",
       "    </tr>\n",
       "  </tbody>\n",
       "</table>\n",
       "<p>73637 rows × 8 columns</p>\n",
       "</div>"
      ],
      "text/plain": [
       "                     customer_unique_id  recency  frequency  monetary  R  F  \\\n",
       "2858   0a0a92112bd4c708ca5fde585afaa872      335          1  13440.00  1  1   \n",
       "33985  763c8b1c9c68a0229c42c9fc6f662b93       46          1   7160.00  3  1   \n",
       "20009  459bef486812aa25204be022145caa62       36          1   6729.00  3  1   \n",
       "18438  4007669dec559734d6f53e029e360987      279          1   5934.60  1  1   \n",
       "20953  48e1ac109decbb87765a3eade6854098       69          1   4590.00  3  1   \n",
       "...                                 ...      ...        ...       ... .. ..   \n",
       "59680  cf3839da0d9492ad151690b65f45d800      209          1      2.99  1  1   \n",
       "54473  bd06ce0e06ad77a7f681f1a4960a3cc6      351          1      2.29  1  1   \n",
       "14242  317cfc692e3f86c45c95697c61c853a6        5          1      2.20  3  1   \n",
       "51756  b38211bd797f4fdd81a98b9d1754b606      128          1      0.85  2  1   \n",
       "62230  d80730c15c647bc8f2ad77c908ba5ca9      128          1      0.85  2  1   \n",
       "\n",
       "       M rfm_score  \n",
       "2858   3       113  \n",
       "33985  3       313  \n",
       "20009  3       313  \n",
       "18438  3       113  \n",
       "20953  3       313  \n",
       "...   ..       ...  \n",
       "59680  1       111  \n",
       "54473  1       111  \n",
       "14242  1       311  \n",
       "51756  1       211  \n",
       "62230  1       211  \n",
       "\n",
       "[73637 rows x 8 columns]"
      ]
     },
     "execution_count": 70,
     "metadata": {},
     "output_type": "execute_result"
    }
   ],
   "source": [
    "common_rfm"
   ]
  },
  {
   "cell_type": "code",
   "execution_count": 71,
   "metadata": {},
   "outputs": [
    {
     "data": {
      "text/plain": [
       "21"
      ]
     },
     "execution_count": 71,
     "metadata": {},
     "output_type": "execute_result"
    }
   ],
   "source": [
    "# count the number of segments\n",
    "common_rfm.rfm_score.nunique()"
   ]
  },
  {
   "cell_type": "code",
   "execution_count": 72,
   "metadata": {},
   "outputs": [
    {
     "data": {
      "text/plain": [
       "111     8747\n",
       "112     8970\n",
       "113    10991\n",
       "121       26\n",
       "122      123\n",
       "123      450\n",
       "133        4\n",
       "211     6696\n",
       "212     6184\n",
       "213     8583\n",
       "221       36\n",
       "222      110\n",
       "223      444\n",
       "233       10\n",
       "311     6756\n",
       "312     6399\n",
       "313     8458\n",
       "321       32\n",
       "322      117\n",
       "323      488\n",
       "333       13\n",
       "Name: rfm_score, dtype: int64"
      ]
     },
     "execution_count": 72,
     "metadata": {},
     "output_type": "execute_result"
    }
   ],
   "source": [
    "# Let's see how we will add comments to \"rfm_score\"\n",
    "common_rfm.rfm_score.value_counts().sort_index(ascending=True)"
   ]
  },
  {
   "cell_type": "markdown",
   "metadata": {},
   "source": [
    "# Create describtion rfm_score"
   ]
  },
  {
   "cell_type": "markdown",
   "metadata": {},
   "source": [
    "Top customers - bought recently, a lot, and more than once - 333, 323, 233, 313 (yes, for us more than 1 purchase is already a lot)\n",
    "\n",
    "Loyal customers - bought quite recently, several times, for a large amount - 322, 223, 222, 213\n",
    "\n",
    "Ordnary customers - bought not so long ago, but not much, and not often - 211, 212, 221, 312,\n",
    "\n",
    "Potencial lost customers - bought a long time ago, but more than once, and for a good amount - 123, 133, 122, 123, 113, 112, they need to be stimulated\n",
    "\n",
    "Lost customers - bought a long time ago, 1 time, a long time ago, for a small amount - 111 however you can also work with them, because they know about our company\n"
   ]
  },
  {
   "cell_type": "code",
   "execution_count": 73,
   "metadata": {},
   "outputs": [],
   "source": [
    "# create a description function rfm_score\n",
    "def describtion(df):\n",
    "    if df['rfm_score'] in ['111']:\n",
    "        return 'Lost customers'\n",
    "    elif df['rfm_score'] in ['123', '133', '122', '123', '113', '112']:\n",
    "        return 'Potencial lost customers'\n",
    "    elif df['rfm_score'] in ['211', '212', '221', '312']:\n",
    "        return 'Ordnary customers'\n",
    "    elif df['rfm_score'] in ['322', '223', '222', '213']:\n",
    "        return 'Loyal customers'\n",
    "    elif df['rfm_score'] in ['333', '323', '233', '313']:\n",
    "        return 'Top customers'\n",
    "    else:\n",
    "        return 'error'"
   ]
  },
  {
   "cell_type": "code",
   "execution_count": 74,
   "metadata": {},
   "outputs": [],
   "source": [
    "common_rfm['describtion'] = common_rfm.apply(describtion, axis=1)"
   ]
  },
  {
   "cell_type": "code",
   "execution_count": 75,
   "metadata": {},
   "outputs": [
    {
     "data": {
      "text/html": [
       "<div>\n",
       "<style scoped>\n",
       "    .dataframe tbody tr th:only-of-type {\n",
       "        vertical-align: middle;\n",
       "    }\n",
       "\n",
       "    .dataframe tbody tr th {\n",
       "        vertical-align: top;\n",
       "    }\n",
       "\n",
       "    .dataframe thead th {\n",
       "        text-align: right;\n",
       "    }\n",
       "</style>\n",
       "<table border=\"1\" class=\"dataframe\">\n",
       "  <thead>\n",
       "    <tr style=\"text-align: right;\">\n",
       "      <th></th>\n",
       "      <th>customer_unique_id</th>\n",
       "      <th>recency</th>\n",
       "      <th>frequency</th>\n",
       "      <th>monetary</th>\n",
       "      <th>R</th>\n",
       "      <th>F</th>\n",
       "      <th>M</th>\n",
       "      <th>rfm_score</th>\n",
       "      <th>describtion</th>\n",
       "    </tr>\n",
       "  </thead>\n",
       "  <tbody>\n",
       "    <tr>\n",
       "      <th>2858</th>\n",
       "      <td>0a0a92112bd4c708ca5fde585afaa872</td>\n",
       "      <td>335</td>\n",
       "      <td>1</td>\n",
       "      <td>13440.0</td>\n",
       "      <td>1</td>\n",
       "      <td>1</td>\n",
       "      <td>3</td>\n",
       "      <td>113</td>\n",
       "      <td>Potencial lost customers</td>\n",
       "    </tr>\n",
       "    <tr>\n",
       "      <th>33985</th>\n",
       "      <td>763c8b1c9c68a0229c42c9fc6f662b93</td>\n",
       "      <td>46</td>\n",
       "      <td>1</td>\n",
       "      <td>7160.0</td>\n",
       "      <td>3</td>\n",
       "      <td>1</td>\n",
       "      <td>3</td>\n",
       "      <td>313</td>\n",
       "      <td>Top customers</td>\n",
       "    </tr>\n",
       "    <tr>\n",
       "      <th>20009</th>\n",
       "      <td>459bef486812aa25204be022145caa62</td>\n",
       "      <td>36</td>\n",
       "      <td>1</td>\n",
       "      <td>6729.0</td>\n",
       "      <td>3</td>\n",
       "      <td>1</td>\n",
       "      <td>3</td>\n",
       "      <td>313</td>\n",
       "      <td>Top customers</td>\n",
       "    </tr>\n",
       "    <tr>\n",
       "      <th>18438</th>\n",
       "      <td>4007669dec559734d6f53e029e360987</td>\n",
       "      <td>279</td>\n",
       "      <td>1</td>\n",
       "      <td>5934.6</td>\n",
       "      <td>1</td>\n",
       "      <td>1</td>\n",
       "      <td>3</td>\n",
       "      <td>113</td>\n",
       "      <td>Potencial lost customers</td>\n",
       "    </tr>\n",
       "    <tr>\n",
       "      <th>20953</th>\n",
       "      <td>48e1ac109decbb87765a3eade6854098</td>\n",
       "      <td>69</td>\n",
       "      <td>1</td>\n",
       "      <td>4590.0</td>\n",
       "      <td>3</td>\n",
       "      <td>1</td>\n",
       "      <td>3</td>\n",
       "      <td>313</td>\n",
       "      <td>Top customers</td>\n",
       "    </tr>\n",
       "  </tbody>\n",
       "</table>\n",
       "</div>"
      ],
      "text/plain": [
       "                     customer_unique_id  recency  frequency  monetary  R  F  \\\n",
       "2858   0a0a92112bd4c708ca5fde585afaa872      335          1   13440.0  1  1   \n",
       "33985  763c8b1c9c68a0229c42c9fc6f662b93       46          1    7160.0  3  1   \n",
       "20009  459bef486812aa25204be022145caa62       36          1    6729.0  3  1   \n",
       "18438  4007669dec559734d6f53e029e360987      279          1    5934.6  1  1   \n",
       "20953  48e1ac109decbb87765a3eade6854098       69          1    4590.0  3  1   \n",
       "\n",
       "       M rfm_score               describtion  \n",
       "2858   3       113  Potencial lost customers  \n",
       "33985  3       313             Top customers  \n",
       "20009  3       313             Top customers  \n",
       "18438  3       113  Potencial lost customers  \n",
       "20953  3       313             Top customers  "
      ]
     },
     "execution_count": 75,
     "metadata": {},
     "output_type": "execute_result"
    }
   ],
   "source": [
    "# get customer descriptions\n",
    "common_rfm.head()"
   ]
  },
  {
   "cell_type": "markdown",
   "metadata": {},
   "source": [
    "# We can also, together with the marketing department, work out a more relevant  the describtion for the needs of the sales department and management, for example"
   ]
  },
  {
   "cell_type": "code",
   "execution_count": 76,
   "metadata": {},
   "outputs": [
    {
     "data": {
      "image/png": "[encoded data removed]",
      "text/plain": [
       "<Figure size 432x288 with 1 Axes>"
      ]
     },
     "metadata": {
      "needs_background": "light"
     },
     "output_type": "display_data"
    }
   ],
   "source": [
    "# Finally, let's build a graphic\n",
    "segments_counts = common_rfm['describtion'].value_counts().sort_values(ascending=True)\n",
    "\n",
    "fig, ax = plt.subplots()\n",
    "\n",
    "bars = ax.barh(range(len(segments_counts)),\n",
    "              segments_counts,\n",
    "              color='silver')\n",
    "ax.set_frame_on(False)\n",
    "ax.tick_params(left=False,\n",
    "               bottom=False,\n",
    "               labelbottom=False)\n",
    "ax.set_yticks(range(len(segments_counts)))\n",
    "ax.set_yticklabels(segments_counts.index)\n",
    "\n",
    "for i, bar in enumerate(bars):\n",
    "        value = bar.get_width()\n",
    "        if segments_counts.index[i] in ['Potencial lost customers', 'Lost customers']:\n",
    "            bar.set_color('firebrick')\n",
    "        ax.text(value,\n",
    "                bar.get_y() + bar.get_height()/2,\n",
    "                '{:,} ({:}%)'.format(int(value),\n",
    "                                   int(value*100/segments_counts.sum())),\n",
    "                va='center',\n",
    "                ha='left'\n",
    "               )\n",
    "\n",
    "plt.show()"
   ]
  },
  {
   "cell_type": "markdown",
   "metadata": {},
   "source": [
    "# Thus, we see that we have a large percentage of potentially lost customers; we need to take steps to attract them to repurchase. There are also a large number of average buyers in terms of importance and contribution, and not many who buy constantly. Depending on the company’s business goals, we can develop plans for the implementation of any promotions, alerts, etc. for certain groups of buyers and more effectively prioritize resources and funds for implementation. Thank you for your attention:)\n",
    "\n"
   ]
  },
  {
   "cell_type": "code",
   "execution_count": null,
   "metadata": {},
   "outputs": [],
   "source": []
  }
 ],
 "metadata": {
  "kernelspec": {
   "display_name": "Python 3",
   "language": "python",
   "name": "python3"
  },
  "language_info": {
   "codemirror_mode": {
    "name": "ipython",
    "version": 3
   },
   "file_extension": ".py",
   "mimetype": "text/x-python",
   "name": "python",
   "nbconvert_exporter": "python",
   "pygments_lexer": "ipython3",
   "version": "3.7.3"
  }
 },
 "nbformat": 4,
 "nbformat_minor": 4
}
